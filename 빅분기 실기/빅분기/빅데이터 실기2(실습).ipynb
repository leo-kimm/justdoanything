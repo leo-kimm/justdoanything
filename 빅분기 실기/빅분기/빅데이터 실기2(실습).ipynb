{
 "cells": [
  {
   "cell_type": "code",
   "execution_count": 112,
   "id": "b19b942b",
   "metadata": {},
   "outputs": [
    {
     "name": "stdout",
     "output_type": "stream",
     "text": [
      "0.6719859829118484\n",
      "[0.51957041 0.40892786 0.43460211 ... 0.40724459 0.39025323 1.        ]\n"
     ]
    }
   ],
   "source": [
    "import pandas as pd\n",
    "import numpy as np\n",
    "X_train = pd.read_csv('./X_train.csv')\n",
    "Y_train = pd.read_csv('./y_train.csv')\n",
    "X_test = pd.read_csv('./X_test.csv')\n",
    "\n",
    "X_train = pd.DataFrame(X_train)\n",
    "Y_train = pd.DataFrame(Y_train).iloc[:,1]\n",
    "X_test = pd.DataFrame(X_test)\n",
    "X_test_copy = X_test\n",
    "\n",
    "# 데이터 확인하기\n",
    "#print(X_test)\n",
    "#print(X_test.dtypes)\n",
    "#print(X_test['Customer_care_calls'].unique())\n",
    "\n",
    "# NA처리하기\n",
    "# print(X_train.isnull().sum())\n",
    "\n",
    "# feature selection\n",
    "X_train = X_train[['Discount_offered','Weight_in_gms']]\n",
    "X_test = X_test[['Discount_offered','Weight_in_gms']]\n",
    "# 더비변수 변환\n",
    "X_train = pd.get_dummies(X_train)\n",
    "X_test = pd.get_dummies(X_test)\n",
    "\n",
    "# Feature /target으로 나누기(이미 나눠줘서 나눌 필요 없음)\n",
    "\n",
    "# 데이터 분할\n",
    "from sklearn.model_selection import train_test_split\n",
    "train_feature, test_feature, train_target, test_target = train_test_split(X_train,Y_train,train_size=0.7, random_state=45)\n",
    "\n",
    "# 데이터 정규화\n",
    "from sklearn.preprocessing import StandardScaler\n",
    "scaler = StandardScaler()\n",
    "train_feature = scaler.fit_transform(train_feature)\n",
    "test_feature = scaler.transform(test_feature)\n",
    "X_test = scaler.transform(X_test)\n",
    "\n",
    "# 모델링\n",
    "from sklearn.ensemble import RandomForestClassifier\n",
    "from sklearn.model_selection import GridSearchCV\n",
    "model = RandomForestClassifier(random_state=44)\n",
    "parameter = {\"max_depth\":[3,4,5]}\n",
    "clf = GridSearchCV(model,param_grid=parameter,cv=5)\n",
    "clf.fit(train_feature,train_target)\n",
    "clf_best = clf.best_estimator_\n",
    "\n",
    "# 정확도 예측\n",
    "from sklearn.metrics import roc_auc_score\n",
    "pred_1 = clf_best.predict(test_feature)\n",
    "print(roc_auc_score(test_target,pred_1)) # feature_selection을 안했을 경우 : 0.73 / ID를 제거했을 때 : 0.69 / 상관계수 높은것만 : 0.67\n",
    "\n",
    "# 결과값 to_csv로 내보내기\n",
    "pred = clf_best.predict_proba(X_test)[:,1]\n",
    "print(pred)\n",
    "a = pd.DataFrame({'cust_id' : X_test_copy['ID'], 'Predict': pred})# .to_csv('0030000.csv',index=False)"
   ]
  },
  {
   "cell_type": "code",
   "execution_count": 115,
   "id": "847fb591",
   "metadata": {},
   "outputs": [
    {
     "data": {
      "text/plain": [
       "Discount_offered       0.395611\n",
       "Weight_in_gms         -0.271201\n",
       "Reached.on.Time_Y.N    1.000000\n",
       "Name: Reached.on.Time_Y.N, dtype: float64"
      ]
     },
     "execution_count": 115,
     "metadata": {},
     "output_type": "execute_result"
    }
   ],
   "source": [
    "df = pd.concat([X_train,Y_train],axis=1)\n",
    "df.corr().iloc[:,-1]"
   ]
  },
  {
   "cell_type": "code",
   "execution_count": 114,
   "id": "235e31a8",
   "metadata": {},
   "outputs": [
    {
     "name": "stdout",
     "output_type": "stream",
     "text": [
      "0.6861480535919247\n"
     ]
    }
   ],
   "source": [
    "a = pd.DataFrame({'cust_id' : X_test_copy['ID'], 'Predict': pred})# .to_csv('0030000.csv',index=False)\n",
    "b = pd.read_csv('./test_label/y_test.csv')\n",
    "b = pd.DataFrame(b)\n",
    "\n",
    "pred_ex = clf_best.predict(X_test)\n",
    "b = b.iloc[:,1]\n",
    "\n",
    "print(roc_auc_score(b,pred_ex)) # featuring 안했을 때 : 0.72 / ID를 제거했을 떄 : 0.69 / 상관계수 높은것만 : 0.68"
   ]
  }
 ],
 "metadata": {
  "kernelspec": {
   "display_name": "Python 3",
   "language": "python",
   "name": "python3"
  },
  "language_info": {
   "codemirror_mode": {
    "name": "ipython",
    "version": 3
   },
   "file_extension": ".py",
   "mimetype": "text/x-python",
   "name": "python",
   "nbconvert_exporter": "python",
   "pygments_lexer": "ipython3",
   "version": "3.8.8"
  }
 },
 "nbformat": 4,
 "nbformat_minor": 5
}
