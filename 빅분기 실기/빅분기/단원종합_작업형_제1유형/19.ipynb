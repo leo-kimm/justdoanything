{
 "cells": [
  {
   "cell_type": "code",
   "execution_count": 1,
   "id": "62e8c80c-ea7d-4fdc-8a9b-29bbd7d3d7b1",
   "metadata": {},
   "outputs": [
    {
     "name": "stdout",
     "output_type": "stream",
     "text": [
      "9.120366513952533\n"
     ]
    }
   ],
   "source": [
    "import pandas as pd\n",
    "\n",
    "df = pd.read_csv('./data/chickweight.csv')\n",
    "df1 = df[df['Time'] == 10]\n",
    "df2 = df1.sort_values(['weight'], ascending=False)\n",
    "mean1 = df2['weight'].mean()\n",
    "df2['weight'][:30] = df2['weight'].mean()\n",
    "mean2 = df2['weight'].mean()\n",
    "\n",
    "print(abs(mean1-mean2))"
   ]
  }
 ],
 "metadata": {
  "kernelspec": {
   "display_name": "Python 3",
   "language": "python",
   "name": "python3"
  },
  "language_info": {
   "codemirror_mode": {
    "name": "ipython",
    "version": 3
   },
   "file_extension": ".py",
   "mimetype": "text/x-python",
   "name": "python",
   "nbconvert_exporter": "python",
   "pygments_lexer": "ipython3",
   "version": "3.9.4"
  }
 },
 "nbformat": 4,
 "nbformat_minor": 5
}
