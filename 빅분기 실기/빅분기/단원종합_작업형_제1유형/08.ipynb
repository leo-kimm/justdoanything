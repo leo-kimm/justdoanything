{
 "cells": [
  {
   "cell_type": "code",
   "execution_count": 1,
   "id": "8c79d4bf-0ff4-4f55-aefc-991b6a9ad1b0",
   "metadata": {},
   "outputs": [
    {
     "name": "stdout",
     "output_type": "stream",
     "text": [
      "            temp    damage\n",
      "temp    1.000000 -0.579051\n",
      "damage -0.579051  1.000000\n",
      "            temp    damage\n",
      "temp    1.000000 -0.617914\n",
      "damage -0.617914  1.000000\n"
     ]
    }
   ],
   "source": [
    "import pandas as pd\n",
    "\n",
    "df = pd.read_csv('./data/orings.csv')\n",
    "\n",
    "df1 = df[df['damage'] >= 1]\n",
    "print(df1.corr(method='pearson'))\n",
    "print(df1.corr(method='spearman'))"
   ]
  }
 ],
 "metadata": {
  "kernelspec": {
   "display_name": "Enjoy Data Science",
   "language": "python",
   "name": "enjoy-data-science"
  },
  "language_info": {
   "file_extension": ".py",
   "mimetype": "text/x-python",
   "name": "python",
   "version": "3.8.12"
  }
 },
 "nbformat": 4,
 "nbformat_minor": 5
}
