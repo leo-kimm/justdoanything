{
 "cells": [
  {
   "cell_type": "code",
   "execution_count": 1,
   "id": "6cb2c154-d99f-4f50-bedb-ea3d7b89566d",
   "metadata": {},
   "outputs": [],
   "source": [
    "import pandas as pd"
   ]
  },
  {
   "cell_type": "code",
   "execution_count": 2,
   "id": "bc79fd30-89dd-4d90-967c-15409fbb4811",
   "metadata": {},
   "outputs": [],
   "source": [
    "df = pd.read_csv('./data/hitters.csv')\n",
    "q1 = df['Salary'].quantile(.25) \n",
    "q3 = df['Salary'].quantile(.75)\n",
    "iqr = q3 - q1\n",
    "median = df['Salary'].median()"
   ]
  },
  {
   "cell_type": "code",
   "execution_count": 3,
   "id": "fcb89001-5428-4aca-9c3f-7f736ef9ffab",
   "metadata": {},
   "outputs": [
    {
     "name": "stdout",
     "output_type": "stream",
     "text": [
      "190.0 750.0 560.0 425.0\n"
     ]
    }
   ],
   "source": [
    "print(q1, q3, iqr, median)"
   ]
  },
  {
   "cell_type": "code",
   "execution_count": 4,
   "id": "39d5116b-0c5c-41d2-b64f-5a121cca265a",
   "metadata": {},
   "outputs": [],
   "source": [
    "upper = median + iqr * 2\n",
    "lower = median - iqr * 2"
   ]
  },
  {
   "cell_type": "code",
   "execution_count": 5,
   "id": "9f4bf9e2-3a37-4e76-a8bb-4db3c2b68d65",
   "metadata": {},
   "outputs": [
    {
     "name": "stdout",
     "output_type": "stream",
     "text": [
      "1545.0 -695.0\n"
     ]
    }
   ],
   "source": [
    "print(upper, lower)"
   ]
  },
  {
   "cell_type": "code",
   "execution_count": 6,
   "id": "1ad16a89-efe7-4b55-a4a6-82e070aeb074",
   "metadata": {},
   "outputs": [],
   "source": [
    "df1 = df.loc[(df['Salary'] > upper) | (df['Salary'] < lower)] "
   ]
  },
  {
   "cell_type": "code",
   "execution_count": 7,
   "id": "fbb845f0-c440-464d-bf11-6d2123c897c9",
   "metadata": {},
   "outputs": [
    {
     "name": "stdout",
     "output_type": "stream",
     "text": [
      "21671.864\n"
     ]
    }
   ],
   "source": [
    "print(df1['Salary'].sum())"
   ]
  }
 ],
 "metadata": {
  "kernelspec": {
   "display_name": "Python 3",
   "language": "python",
   "name": "python3"
  },
  "language_info": {
   "codemirror_mode": {
    "name": "ipython",
    "version": 3
   },
   "file_extension": ".py",
   "mimetype": "text/x-python",
   "name": "python",
   "nbconvert_exporter": "python",
   "pygments_lexer": "ipython3",
   "version": "3.9.4"
  }
 },
 "nbformat": 4,
 "nbformat_minor": 5
}
