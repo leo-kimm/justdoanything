{
 "cells": [
  {
   "cell_type": "code",
   "execution_count": 1,
   "id": "8a3cc9b6-e603-4c25-acaf-c7ce0eb5258a",
   "metadata": {},
   "outputs": [
    {
     "name": "stdout",
     "output_type": "stream",
     "text": [
      "13.943750000000001\n"
     ]
    }
   ],
   "source": [
    "import pandas as pd\n",
    "\n",
    "df = pd.read_csv('./data/cats.csv')\n",
    "\n",
    "mean = df['Hwt'].mean()\n",
    "std = df['Hwt'].std()\n",
    "\n",
    "upper = mean + std * 1.5\n",
    "lower = mean - std * 1.5\n",
    "\n",
    "hwts = df.loc[(df['Hwt'] > upper) | (df['Hwt'] < lower)]['Hwt']\n",
    "print(hwts.mean())"
   ]
  }
 ],
 "metadata": {
  "kernelspec": {
   "display_name": "Python 3",
   "language": "python",
   "name": "python3"
  },
  "language_info": {
   "codemirror_mode": {
    "name": "ipython",
    "version": 3
   },
   "file_extension": ".py",
   "mimetype": "text/x-python",
   "name": "python",
   "nbconvert_exporter": "python",
   "pygments_lexer": "ipython3",
   "version": "3.9.4"
  }
 },
 "nbformat": 4,
 "nbformat_minor": 5
}
