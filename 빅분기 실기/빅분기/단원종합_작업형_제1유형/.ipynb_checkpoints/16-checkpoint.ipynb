{
 "cells": [
  {
   "cell_type": "code",
   "execution_count": 1,
   "id": "f0e79b08-e339-4b5e-93e9-c51a7fd255b8",
   "metadata": {},
   "outputs": [
    {
     "name": "stdout",
     "output_type": "stream",
     "text": [
      "41\n"
     ]
    }
   ],
   "source": [
    "import pandas as pd\n",
    "\n",
    "df = pd.read_csv('./data/iris.csv')\n",
    "\n",
    "df1 = df[df['Species'] == 'virginica'].copy()\n",
    "df1['Len'] = df1.loc[:, 'Sepal.Length'].map(lambda x : 1 if x > 6 else 0)\n",
    "df1['Len2'] = df1.apply(lambda x : 1 if x['Sepal.Length'] > 6 else 0, axis=1)\n",
    "\n",
    "print(df1['Len'].sum())"
   ]
  }
 ],
 "metadata": {
  "kernelspec": {
   "display_name": "Enjoy Data Science",
   "language": "python",
   "name": "enjoy-data-science"
  },
  "language_info": {
   "file_extension": ".py",
   "mimetype": "text/x-python",
   "name": "python",
   "version": "3.8.12"
  }
 },
 "nbformat": 4,
 "nbformat_minor": 5
}
