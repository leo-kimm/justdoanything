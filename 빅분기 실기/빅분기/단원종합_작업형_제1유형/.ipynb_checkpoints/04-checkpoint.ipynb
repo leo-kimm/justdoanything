{
 "cells": [
  {
   "cell_type": "code",
   "execution_count": 1,
   "id": "9138792b-7965-4875-857a-ce64a5f60168",
   "metadata": {},
   "outputs": [
    {
     "name": "stdout",
     "output_type": "stream",
     "text": [
      "10.366336633663366\n"
     ]
    }
   ],
   "source": [
    "import pandas as pd\n",
    "\n",
    "df = pd.read_csv('./data/airquality.csv')\n",
    "\n",
    "nrow = int(len(df) * 0.9)\n",
    "df90 = df.iloc[:nrow, ]\n",
    "mean = df90['Ozone'].mean()\n",
    "median1 = df90['Ozone'].median()\n",
    "df90 = df90.fillna({'Ozone': mean})\n",
    "median2 = df90['Ozone'].median()\n",
    "\n",
    "print(abs(median1 - median2))"
   ]
  }
 ],
 "metadata": {
  "kernelspec": {
   "display_name": "Enjoy Data Science",
   "language": "python",
   "name": "enjoy-data-science"
  },
  "language_info": {
   "file_extension": ".py",
   "mimetype": "text/x-python",
   "name": "python",
   "version": "3.8.12"
  }
 },
 "nbformat": 4,
 "nbformat_minor": 5
}
