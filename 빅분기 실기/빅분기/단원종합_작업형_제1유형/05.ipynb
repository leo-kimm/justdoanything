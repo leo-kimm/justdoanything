{
 "cells": [
  {
   "cell_type": "code",
   "execution_count": 2,
   "id": "5b12f800-7283-472a-8e94-f312aa92fef3",
   "metadata": {},
   "outputs": [],
   "source": [
    "import pandas as pd\n",
    "\n",
    "df = pd.read_csv('./data/musicfeatures.csv')\n",
    "\n",
    "upper = df['tempo'].quantile(.75)\n",
    "lower = df['tempo'].quantile(.25)\n",
    "\n",
    "df.loc[df['tempo'] > upper, 'tempo'] = 0\n",
    "df.loc[df['tempo'] < lower, 'tempo'] = 0\n",
    "\n",
    "print(df['tempo'].mean() + df['tempo'].std())"
   ]
  }
 ],
 "metadata": {
  "kernelspec": {
   "display_name": "Enjoy Data Science",
   "language": "python",
   "name": "enjoy-data-science"
  },
  "language_info": {
   "file_extension": ".py",
   "mimetype": "text/x-python",
   "name": "python",
   "version": "3.8.12"
  }
 },
 "nbformat": 4,
 "nbformat_minor": 5
}
