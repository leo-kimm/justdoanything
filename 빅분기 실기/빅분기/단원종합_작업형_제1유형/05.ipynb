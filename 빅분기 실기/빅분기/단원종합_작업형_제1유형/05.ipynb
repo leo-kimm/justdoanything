{
 "cells": [
  {
   "cell_type": "code",
   "execution_count": 2,
   "id": "5b12f800-7283-472a-8e94-f312aa92fef3",
   "metadata": {},
   "outputs": [],
   "source": [
    "import pandas as pd\n",
    "\n",
    "df = pd.read_csv('./data/musicfeatures.csv')\n",
    "\n",
    "upper = df['tempo'].quantile(.75)\n",
    "lower = df['tempo'].quantile(.25)\n",
    "\n",
    "df.loc[df['tempo'] > upper, 'tempo'] = 0\n",
    "df.loc[df['tempo'] < lower, 'tempo'] = 0\n",
    "\n",
    "print(df['tempo'].mean() + df['tempo'].std())"
   ]
  }
 ],
 "metadata": {
  "kernelspec": {
   "display_name": "Python 3",
   "language": "python",
   "name": "python3"
  },
  "language_info": {
   "codemirror_mode": {
    "name": "ipython",
    "version": 3
   },
   "file_extension": ".py",
   "mimetype": "text/x-python",
   "name": "python",
   "nbconvert_exporter": "python",
   "pygments_lexer": "ipython3",
   "version": "3.9.4"
  }
 },
 "nbformat": 4,
 "nbformat_minor": 5
}
