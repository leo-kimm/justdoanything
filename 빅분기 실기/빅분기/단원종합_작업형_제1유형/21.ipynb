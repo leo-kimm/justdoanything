{
 "cells": [
  {
   "cell_type": "code",
   "execution_count": 1,
   "id": "10404273-ac85-48d6-964b-02f1bb16c6b8",
   "metadata": {},
   "outputs": [
    {
     "name": "stdout",
     "output_type": "stream",
     "text": [
      "1101.7961878145454\n"
     ]
    }
   ],
   "source": [
    "import pandas as pd\n",
    "\n",
    "df = pd.read_csv('./data/sales_train_v2.csv')\n",
    "\n",
    "top_3 = df['item_id'].value_counts().to_frame()[:3].index\n",
    "df1 = df.loc[df['item_id'].isin(top_3)]\n",
    "print(abs(df1['item_price'].std() - df['item_price'].std()))"
   ]
  }
 ],
 "metadata": {
  "kernelspec": {
   "display_name": "Python 3",
   "language": "python",
   "name": "python3"
  },
  "language_info": {
   "codemirror_mode": {
    "name": "ipython",
    "version": 3
   },
   "file_extension": ".py",
   "mimetype": "text/x-python",
   "name": "python",
   "nbconvert_exporter": "python",
   "pygments_lexer": "ipython3",
   "version": "3.9.4"
  }
 },
 "nbformat": 4,
 "nbformat_minor": 5
}
