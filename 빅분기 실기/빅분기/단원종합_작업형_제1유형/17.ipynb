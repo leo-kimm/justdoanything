{
 "cells": [
  {
   "cell_type": "code",
   "execution_count": 1,
   "id": "6fb6477f-39b8-4c6d-944a-b838712ccc6f",
   "metadata": {},
   "outputs": [
    {
     "name": "stdout",
     "output_type": "stream",
     "text": [
      "5279.7844827586205\n"
     ]
    }
   ],
   "source": [
    "import pandas as pd\n",
    "\n",
    "df = pd.read_csv('./data/airquality.csv')\n",
    "\n",
    "# 결측치를 제거\n",
    "df1 = df.dropna(subset=['Ozone'])\n",
    "# 결측치를 제거한 평균값\n",
    "mean = df1['Ozone'].mean()\n",
    "\n",
    "# 결측치를 결측치를 제거한 평균값으로 대치\n",
    "df2 = df.fillna({'Ozone': mean})\n",
    "# 중앙값\n",
    "median = df2['Ozone'].median()\n",
    "# 1분위, 3분위 확인\n",
    "desc = df2.describe()\n",
    "\n",
    "q1 = desc.iloc[4,0]\n",
    "q3 = desc.iloc[6,0]\n",
    "iqr = q3 - q1\n",
    "upper = median + iqr * 2\n",
    "lower = median - iqr * 2\n",
    "\n",
    "df3 = df2[(df2['Ozone'] >= lower) & (df2['Ozone'] <= upper)]\n",
    "print(df3['Ozone'].sum())"
   ]
  }
 ],
 "metadata": {
  "kernelspec": {
   "display_name": "Enjoy Data Science",
   "language": "python",
   "name": "enjoy-data-science"
  },
  "language_info": {
   "file_extension": ".py",
   "mimetype": "text/x-python",
   "name": "python",
   "version": "3.8.12"
  }
 },
 "nbformat": 4,
 "nbformat_minor": 5
}
