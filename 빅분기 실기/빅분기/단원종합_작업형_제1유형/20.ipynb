{
 "cells": [
  {
   "cell_type": "code",
   "execution_count": 1,
   "id": "c4cf6c76-819a-44d0-9966-b63b3b24bd60",
   "metadata": {},
   "outputs": [
    {
     "name": "stdout",
     "output_type": "stream",
     "text": [
      "421.5050699300699\n"
     ]
    }
   ],
   "source": [
    "import pandas as pd\n",
    "\n",
    "df = pd.read_csv('./data/fifa_ranking.csv')\n",
    "df1 = df.sort_values(['total_points'], ascending=False).iloc[:3]\n",
    "country = df1['country_abrv'].values[0]\n",
    "print(df[df['country_abrv'] == country]['total_points'].mean())"
   ]
  }
 ],
 "metadata": {
  "kernelspec": {
   "display_name": "Enjoy Data Science",
   "language": "python",
   "name": "enjoy-data-science"
  },
  "language_info": {
   "file_extension": ".py",
   "mimetype": "text/x-python",
   "name": "python",
   "version": "3.8.12"
  }
 },
 "nbformat": 4,
 "nbformat_minor": 5
}
