{
 "cells": [
  {
   "cell_type": "code",
   "execution_count": 1,
   "id": "f0da1d9d-8b1f-44e4-9ea8-284b4cc8959a",
   "metadata": {},
   "outputs": [
    {
     "name": "stdout",
     "output_type": "stream",
     "text": [
      "50.449588192681055\n"
     ]
    }
   ],
   "source": [
    "import pandas as pd\n",
    "\n",
    "df = pd.read_csv('./data/mtcars.csv')\n",
    "df1 = df[(df['gear'] == 4) & (df['am'] == 1)]\n",
    "\n",
    "print(df1['mpg'].mean() + df1['hp'].std())"
   ]
  }
 ],
 "metadata": {
  "kernelspec": {
   "display_name": "Python 3",
   "language": "python",
   "name": "python3"
  },
  "language_info": {
   "codemirror_mode": {
    "name": "ipython",
    "version": 3
   },
   "file_extension": ".py",
   "mimetype": "text/x-python",
   "name": "python",
   "nbconvert_exporter": "python",
   "pygments_lexer": "ipython3",
   "version": "3.9.4"
  }
 },
 "nbformat": 4,
 "nbformat_minor": 5
}
