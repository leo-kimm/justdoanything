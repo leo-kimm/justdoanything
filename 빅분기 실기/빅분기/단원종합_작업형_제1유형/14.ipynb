{
 "cells": [
  {
   "cell_type": "code",
   "execution_count": 1,
   "id": "f0da1d9d-8b1f-44e4-9ea8-284b4cc8959a",
   "metadata": {},
   "outputs": [
    {
     "name": "stdout",
     "output_type": "stream",
     "text": [
      "50.449588192681055\n"
     ]
    }
   ],
   "source": [
    "import pandas as pd\n",
    "\n",
    "df = pd.read_csv('./data/mtcars.csv')\n",
    "df1 = df[(df['gear'] == 4) & (df['am'] == 1)]\n",
    "\n",
    "print(df1['mpg'].mean() + df1['hp'].std())"
   ]
  }
 ],
 "metadata": {
  "kernelspec": {
   "display_name": "Enjoy Data Science",
   "language": "python",
   "name": "enjoy-data-science"
  },
  "language_info": {
   "file_extension": ".py",
   "mimetype": "text/x-python",
   "name": "python",
   "version": "3.8.12"
  }
 },
 "nbformat": 4,
 "nbformat_minor": 5
}
