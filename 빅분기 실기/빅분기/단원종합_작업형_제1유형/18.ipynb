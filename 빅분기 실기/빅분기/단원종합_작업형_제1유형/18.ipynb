{
 "cells": [
  {
   "cell_type": "code",
   "execution_count": 1,
   "id": "85c4d65d-8833-48c1-b54b-ce1bcb7b3c26",
   "metadata": {},
   "outputs": [],
   "source": [
    "import pandas as pd"
   ]
  },
  {
   "cell_type": "code",
   "execution_count": 2,
   "id": "0885cca6-ad62-4822-88c2-b9910a16d7de",
   "metadata": {},
   "outputs": [],
   "source": [
    "df = pd.read_csv('./data/marvel-wikia-data.csv')"
   ]
  },
  {
   "cell_type": "code",
   "execution_count": 3,
   "id": "57e104e6-b3ae-46b2-8fc7-e228a8c44331",
   "metadata": {},
   "outputs": [],
   "source": [
    "df1 = df[(df['HAIR'] == 'Brown Hair') & (df['EYE'] == 'Brown Eyes')]"
   ]
  },
  {
   "cell_type": "code",
   "execution_count": 4,
   "id": "e255871d-7015-48c4-affe-966ed41334a3",
   "metadata": {},
   "outputs": [],
   "source": [
    "mean = df1['APPEARANCES'].describe()[1]\n",
    "std = df1['APPEARANCES'].describe()[2]\n",
    "q1 = df1['APPEARANCES'].describe()[4]\n",
    "q3 = df1['APPEARANCES'].describe()[6]\n",
    "iqr = q3 - q1"
   ]
  },
  {
   "cell_type": "markdown",
   "id": "dd09eaa9-b07e-49ec-8901-703dac8c3336",
   "metadata": {},
   "source": [
    "### 사분위수"
   ]
  },
  {
   "cell_type": "code",
   "execution_count": 5,
   "id": "7cf85ba9-e209-49b0-a029-609bafd61c07",
   "metadata": {},
   "outputs": [],
   "source": [
    "upper = q3 + iqr * 1.5\n",
    "lower = q1 - iqr * 1.5"
   ]
  },
  {
   "cell_type": "code",
   "execution_count": 6,
   "id": "86ff22ea-74d9-4030-b94a-ad4e2508f258",
   "metadata": {},
   "outputs": [],
   "source": [
    "df2 = df1[(df1['APPEARANCES'] <= upper) & (df1['APPEARANCES'] >= lower)]"
   ]
  },
  {
   "cell_type": "code",
   "execution_count": 7,
   "id": "da001ac4-0254-4d3f-b4dd-570b984959ef",
   "metadata": {},
   "outputs": [
    {
     "data": {
      "text/plain": [
       "10.095914742451155"
      ]
     },
     "execution_count": 7,
     "metadata": {},
     "output_type": "execute_result"
    }
   ],
   "source": [
    "df2['APPEARANCES'].mean()"
   ]
  },
  {
   "cell_type": "markdown",
   "id": "c56249c6-3b36-47b0-b74a-fd915bf0d6b4",
   "metadata": {},
   "source": [
    "### ESD ?"
   ]
  },
  {
   "cell_type": "code",
   "execution_count": 8,
   "id": "b7a518b9-a4a3-4d20-857c-1c614aee6e7e",
   "metadata": {},
   "outputs": [],
   "source": [
    "upper = mean + std * 1.5\n",
    "lower = mean - std * 1.5"
   ]
  },
  {
   "cell_type": "code",
   "execution_count": 9,
   "id": "762b76a1-1809-4ab3-90c5-484c153c610d",
   "metadata": {},
   "outputs": [],
   "source": [
    "df3 = df1[(df1['APPEARANCES'] <= upper) & (df1['APPEARANCES'] >= lower)]"
   ]
  },
  {
   "cell_type": "code",
   "execution_count": 10,
   "id": "b6fc01fd-5d75-48b9-a4c3-950364535f13",
   "metadata": {},
   "outputs": [
    {
     "data": {
      "text/plain": [
       "20.520064205457462"
      ]
     },
     "execution_count": 10,
     "metadata": {},
     "output_type": "execute_result"
    }
   ],
   "source": [
    "df3['APPEARANCES'].mean()"
   ]
  }
 ],
 "metadata": {
  "kernelspec": {
   "display_name": "Enjoy Data Science",
   "language": "python",
   "name": "enjoy-data-science"
  },
  "language_info": {
   "file_extension": ".py",
   "mimetype": "text/x-python",
   "name": "python",
   "version": "3.8.12"
  }
 },
 "nbformat": 4,
 "nbformat_minor": 5
}
