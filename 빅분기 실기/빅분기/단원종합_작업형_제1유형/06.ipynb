{
 "cells": [
  {
   "cell_type": "code",
   "execution_count": 1,
   "id": "1639ce6d-3f5d-4de8-879c-65201872255c",
   "metadata": {},
   "outputs": [],
   "source": [
    "import pandas as pd\n",
    "\n",
    "df = pd.read_csv('./data/WA_Fn-UseC_-Telco-Customer-Churn.csv')\n",
    "df['TotalCharges'] = pd.to_numeric(df['TotalCharges'], errors='coerce')\n",
    "\n",
    "mean = df['TotalCharges'].mean()\n",
    "std = df['TotalCharges'].std()\n",
    "upper = mean + std * 1.5\n",
    "lower = mean - std * 1.5\n",
    "\n",
    "print(df.loc[(df['TotalCharges'] <= upper) & (df['TotalCharges'] >= lower)]['TotalCharges'].mean())"
   ]
  }
 ],
 "metadata": {
  "kernelspec": {
   "display_name": "Enjoy Data Science",
   "language": "python",
   "name": "enjoy-data-science"
  },
  "language_info": {
   "file_extension": ".py",
   "mimetype": "text/x-python",
   "name": "python",
   "version": "3.8.12"
  }
 },
 "nbformat": 4,
 "nbformat_minor": 5
}
