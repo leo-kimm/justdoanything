{
 "cells": [
  {
   "cell_type": "code",
   "execution_count": 1,
   "id": "1639ce6d-3f5d-4de8-879c-65201872255c",
   "metadata": {},
   "outputs": [],
   "source": [
    "import pandas as pd\n",
    "\n",
    "df = pd.read_csv('./data/WA_Fn-UseC_-Telco-Customer-Churn.csv')\n",
    "df['TotalCharges'] = pd.to_numeric(df['TotalCharges'], errors='coerce')\n",
    "\n",
    "mean = df['TotalCharges'].mean()\n",
    "std = df['TotalCharges'].std()\n",
    "upper = mean + std * 1.5\n",
    "lower = mean - std * 1.5\n",
    "\n",
    "print(df.loc[(df['TotalCharges'] <= upper) & (df['TotalCharges'] >= lower)]['TotalCharges'].mean())"
   ]
  }
 ],
 "metadata": {
  "kernelspec": {
   "display_name": "Python 3",
   "language": "python",
   "name": "python3"
  },
  "language_info": {
   "codemirror_mode": {
    "name": "ipython",
    "version": 3
   },
   "file_extension": ".py",
   "mimetype": "text/x-python",
   "name": "python",
   "nbconvert_exporter": "python",
   "pygments_lexer": "ipython3",
   "version": "3.9.4"
  }
 },
 "nbformat": 4,
 "nbformat_minor": 5
}
