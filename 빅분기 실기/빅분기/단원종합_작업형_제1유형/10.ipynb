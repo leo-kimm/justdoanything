{
 "cells": [
  {
   "cell_type": "code",
   "execution_count": 1,
   "id": "686e6784-697f-4d36-b83d-dea8126463a5",
   "metadata": {},
   "outputs": [
    {
     "name": "stdout",
     "output_type": "stream",
     "text": [
      "2745\n"
     ]
    }
   ],
   "source": [
    "import pandas as pd\n",
    "\n",
    "df = pd.read_csv('./data/diamonds.csv')\n",
    "\n",
    "nrow = int(len(df) * 0.8)\n",
    "df20 = df.iloc[nrow:, ]\n",
    "df20 = df20[(df20['cut'] == 'Fair') & (df20['carat'] >= 1)] \n",
    "\n",
    "print(df20['price'].max())"
   ]
  }
 ],
 "metadata": {
  "kernelspec": {
   "display_name": "Enjoy Data Science",
   "language": "python",
   "name": "enjoy-data-science"
  },
  "language_info": {
   "file_extension": ".py",
   "mimetype": "text/x-python",
   "name": "python",
   "version": "3.8.12"
  }
 },
 "nbformat": 4,
 "nbformat_minor": 5
}
