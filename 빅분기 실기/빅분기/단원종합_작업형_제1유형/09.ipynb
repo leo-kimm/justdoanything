{
 "cells": [
  {
   "cell_type": "code",
   "execution_count": 1,
   "id": "cfcbfbfc-295e-4f5f-8da1-2583f5edb742",
   "metadata": {},
   "outputs": [
    {
     "name": "stdout",
     "output_type": "stream",
     "text": [
      "7.069999999999993\n"
     ]
    }
   ],
   "source": [
    "import pandas as pd\n",
    "\n",
    "df = pd.read_csv('./data/mtcars.csv')\n",
    "\n",
    "df1 = df[df['am'] == 1].sort_values(['wt']).iloc[:10, ]\n",
    "df2 = df[df['am'] == 0].sort_values(['wt']).iloc[:10, ]\n",
    "\n",
    "print(df1['mpg'].mean() - df2['mpg'].mean())"
   ]
  }
 ],
 "metadata": {
  "kernelspec": {
   "display_name": "Python 3",
   "language": "python",
   "name": "python3"
  },
  "language_info": {
   "codemirror_mode": {
    "name": "ipython",
    "version": 3
   },
   "file_extension": ".py",
   "mimetype": "text/x-python",
   "name": "python",
   "nbconvert_exporter": "python",
   "pygments_lexer": "ipython3",
   "version": "3.9.4"
  }
 },
 "nbformat": 4,
 "nbformat_minor": 5
}
