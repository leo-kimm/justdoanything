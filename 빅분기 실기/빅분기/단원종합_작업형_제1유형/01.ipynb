{
 "cells": [
  {
   "cell_type": "code",
   "execution_count": 1,
   "id": "7959e2e7-a72d-416e-90b6-a0813298f4ce",
   "metadata": {},
   "outputs": [],
   "source": [
    "import pandas as pd"
   ]
  },
  {
   "cell_type": "code",
   "execution_count": 2,
   "id": "c6df956c-607c-4514-8293-644dd3536c00",
   "metadata": {},
   "outputs": [],
   "source": [
    "df = pd.read_csv('./data/airquality.csv')"
   ]
  },
  {
   "cell_type": "code",
   "execution_count": 3,
   "id": "c3ba1d16-0ad8-4ffa-90dd-a5671691ed49",
   "metadata": {},
   "outputs": [
    {
     "name": "stdout",
     "output_type": "stream",
     "text": [
      "3.90557009421536\n"
     ]
    }
   ],
   "source": [
    "df1 = df.dropna(subset=['Solar.R'])\n",
    "std1 = df1['Ozone'].std()\n",
    "ozone_median = df1['Ozone'].median()\n",
    "df1 = df1.fillna({'Ozone':ozone_median})\n",
    "std2 = df1['Ozone'].std()\n",
    "print(abs(std1 - std2))"
   ]
  },
  {
   "cell_type": "code",
   "execution_count": null,
   "id": "6625a5f8",
   "metadata": {},
   "outputs": [],
   "source": []
  }
 ],
 "metadata": {
  "kernelspec": {
   "display_name": "Python 3",
   "language": "python",
   "name": "python3"
  },
  "language_info": {
   "codemirror_mode": {
    "name": "ipython",
    "version": 3
   },
   "file_extension": ".py",
   "mimetype": "text/x-python",
   "name": "python",
   "nbconvert_exporter": "python",
   "pygments_lexer": "ipython3",
   "version": "3.9.4"
  }
 },
 "nbformat": 4,
 "nbformat_minor": 5
}
