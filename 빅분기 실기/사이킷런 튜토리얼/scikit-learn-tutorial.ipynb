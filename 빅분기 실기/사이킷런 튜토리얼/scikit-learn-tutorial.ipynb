{
 "cells": [
  {
   "cell_type": "markdown",
   "id": "85b55557",
   "metadata": {
    "papermill": {
     "duration": 0.010486,
     "end_time": "2021-12-01T09:46:03.972538",
     "exception": false,
     "start_time": "2021-12-01T09:46:03.962052",
     "status": "completed"
    },
    "tags": []
   },
   "source": [
    "### 빅데이터 분석기사 실기 문제 해결을 위한 사이킷런 모듈에 관한 설명\n",
    "https://scikit-learn.org/stable/modules/classes.html"
   ]
  },
  {
   "cell_type": "markdown",
   "id": "976e3371",
   "metadata": {
    "papermill": {
     "duration": 0.008342,
     "end_time": "2021-12-01T09:46:03.990430",
     "exception": false,
     "start_time": "2021-12-01T09:46:03.982088",
     "status": "completed"
    },
    "tags": []
   },
   "source": [
    "### from과 import를 이용하여 사용하고자 하는 모듈 import 하기"
   ]
  },
  {
   "cell_type": "markdown",
   "id": "58dad95e",
   "metadata": {
    "papermill": {
     "duration": 0.010486,
     "end_time": "2021-12-01T09:46:04.009692",
     "exception": false,
     "start_time": "2021-12-01T09:46:03.999206",
     "status": "completed"
    },
    "tags": []
   },
   "source": [
    "# 사이킷런 튜토리얼"
   ]
  },
  {
   "cell_type": "markdown",
   "id": "a472af2d",
   "metadata": {
    "papermill": {
     "duration": 0.012229,
     "end_time": "2021-12-01T09:46:04.034667",
     "exception": false,
     "start_time": "2021-12-01T09:46:04.022438",
     "status": "completed"
    },
    "tags": []
   },
   "source": [
    "### 빅데이터 분석기사 문제 해결을 위한 사이킷런 모듈 문서\n",
    "https://scikit-learn.org/stable/modules/classes.html"
   ]
  },
  {
   "cell_type": "code",
   "execution_count": 1,
   "id": "32207758",
   "metadata": {
    "_cell_guid": "b1076dfc-b9ad-4769-8c92-a6c4dae69d19",
    "_uuid": "8f2839f25d086af736a60e9eeb907d3b93b6e0e5",
    "execution": {
     "iopub.execute_input": "2021-12-01T09:46:04.071252Z",
     "iopub.status.busy": "2021-12-01T09:46:04.062706Z",
     "iopub.status.idle": "2021-12-01T09:46:04.955629Z",
     "shell.execute_reply": "2021-12-01T09:46:04.954878Z",
     "shell.execute_reply.started": "2021-12-01T09:39:40.796616Z"
    },
    "papermill": {
     "duration": 0.910292,
     "end_time": "2021-12-01T09:46:04.955822",
     "exception": false,
     "start_time": "2021-12-01T09:46:04.045530",
     "status": "completed"
    },
    "tags": []
   },
   "outputs": [],
   "source": [
    "from sklearn.preprocessing import MinMaxScaler      "
   ]
  },
  {
   "cell_type": "markdown",
   "id": "2ea08435",
   "metadata": {
    "papermill": {
     "duration": 0.008293,
     "end_time": "2021-12-01T09:46:04.972779",
     "exception": false,
     "start_time": "2021-12-01T09:46:04.964486",
     "status": "completed"
    },
    "tags": []
   },
   "source": [
    "### 중간가지의 모듈 정도는 암기하고 dir 함수를 이용하여 세부 카테고리는 검색해가며 사용하는 것을 추천"
   ]
  },
  {
   "cell_type": "code",
   "execution_count": 2,
   "id": "7957e650",
   "metadata": {
    "execution": {
     "iopub.execute_input": "2021-12-01T09:46:04.993724Z",
     "iopub.status.busy": "2021-12-01T09:46:04.992782Z",
     "iopub.status.idle": "2021-12-01T09:46:05.053657Z",
     "shell.execute_reply": "2021-12-01T09:46:05.054198Z",
     "shell.execute_reply.started": "2021-12-01T09:40:24.334057Z"
    },
    "papermill": {
     "duration": 0.07303,
     "end_time": "2021-12-01T09:46:05.054370",
     "exception": false,
     "start_time": "2021-12-01T09:46:04.981340",
     "status": "completed"
    },
    "tags": []
   },
   "outputs": [
    {
     "data": {
      "text/plain": [
       "['BaseCrossValidator',\n",
       " 'GridSearchCV',\n",
       " 'GroupKFold',\n",
       " 'GroupShuffleSplit',\n",
       " 'KFold']"
      ]
     },
     "execution_count": 2,
     "metadata": {},
     "output_type": "execute_result"
    }
   ],
   "source": [
    "import sklearn.model_selection     \n",
    "dir(sklearn.model_selection)[:5]"
   ]
  },
  {
   "cell_type": "markdown",
   "id": "d2d6dd16",
   "metadata": {
    "papermill": {
     "duration": 0.008667,
     "end_time": "2021-12-01T09:46:05.072210",
     "exception": false,
     "start_time": "2021-12-01T09:46:05.063543",
     "status": "completed"
    },
    "tags": []
   },
   "source": [
    "### import sklearn 를 입력한 후, __all__을 이용해서 하위 모듈들을 확인할 수 있음"
   ]
  },
  {
   "cell_type": "code",
   "execution_count": 3,
   "id": "e795934c",
   "metadata": {
    "execution": {
     "iopub.execute_input": "2021-12-01T09:46:05.093838Z",
     "iopub.status.busy": "2021-12-01T09:46:05.092833Z",
     "iopub.status.idle": "2021-12-01T09:46:05.099559Z",
     "shell.execute_reply": "2021-12-01T09:46:05.098934Z",
     "shell.execute_reply.started": "2021-12-01T09:41:05.207071Z"
    },
    "papermill": {
     "duration": 0.018588,
     "end_time": "2021-12-01T09:46:05.099695",
     "exception": false,
     "start_time": "2021-12-01T09:46:05.081107",
     "status": "completed"
    },
    "tags": []
   },
   "outputs": [
    {
     "data": {
      "text/plain": [
       "['neural_network',\n",
       " 'pipeline',\n",
       " 'preprocessing',\n",
       " 'random_projection',\n",
       " 'semi_supervised']"
      ]
     },
     "execution_count": 3,
     "metadata": {},
     "output_type": "execute_result"
    }
   ],
   "source": [
    "import sklearn\n",
    "sklearn.__all__[-15:-10]"
   ]
  },
  {
   "cell_type": "code",
   "execution_count": 4,
   "id": "27d423c1",
   "metadata": {
    "execution": {
     "iopub.execute_input": "2021-12-01T09:46:05.124299Z",
     "iopub.status.busy": "2021-12-01T09:46:05.123535Z",
     "iopub.status.idle": "2021-12-01T09:46:05.126517Z",
     "shell.execute_reply": "2021-12-01T09:46:05.127030Z",
     "shell.execute_reply.started": "2021-12-01T09:41:11.223567Z"
    },
    "papermill": {
     "duration": 0.018005,
     "end_time": "2021-12-01T09:46:05.127191",
     "exception": false,
     "start_time": "2021-12-01T09:46:05.109186",
     "status": "completed"
    },
    "tags": []
   },
   "outputs": [
    {
     "data": {
      "text/plain": [
       "['Binarizer',\n",
       " 'FunctionTransformer',\n",
       " 'KBinsDiscretizer',\n",
       " 'KernelCenterer',\n",
       " 'LabelBinarizer',\n",
       " 'LabelEncoder']"
      ]
     },
     "execution_count": 4,
     "metadata": {},
     "output_type": "execute_result"
    }
   ],
   "source": [
    "import sklearn.preprocessing\n",
    "sklearn.preprocessing.__all__[:6]"
   ]
  },
  {
   "cell_type": "markdown",
   "id": "ab40c0ab",
   "metadata": {
    "papermill": {
     "duration": 0.00958,
     "end_time": "2021-12-01T09:46:05.146205",
     "exception": false,
     "start_time": "2021-12-01T09:46:05.136625",
     "status": "completed"
    },
    "tags": []
   },
   "source": [
    "# 모듈리스트"
   ]
  },
  {
   "cell_type": "code",
   "execution_count": 5,
   "id": "8fdbdc75",
   "metadata": {
    "execution": {
     "iopub.execute_input": "2021-12-01T09:46:05.173095Z",
     "iopub.status.busy": "2021-12-01T09:46:05.172364Z",
     "iopub.status.idle": "2021-12-01T09:46:05.175077Z",
     "shell.execute_reply": "2021-12-01T09:46:05.175557Z",
     "shell.execute_reply.started": "2021-12-01T09:42:30.671491Z"
    },
    "papermill": {
     "duration": 0.01985,
     "end_time": "2021-12-01T09:46:05.175714",
     "exception": false,
     "start_time": "2021-12-01T09:46:05.155864",
     "status": "completed"
    },
    "tags": []
   },
   "outputs": [
    {
     "data": {
      "text/plain": [
       "'sklearn\\n│\\n├── 01 preprocessing (전처리)\\n│   │\\n│   ├── 스케일러\\n│   │   ├── MinMaxScaler\\n│   │   ├── RobustScaler\\n│   │   └── StandardScaler\\n│   │\\n│   └── 인코더\\n│       ├── LabelEncoder\\n│       └── OneHotEncoder\\n│  \\n├── 02 model_selection (모델링 전처리)\\n│   │\\n│   ├── 데이터셋 분리\\n│   │   ├── KFold\\n│   │   ├── StratifiedKFold\\n│   │   └── train_test_split\\n│   │\\n│   └── 하이퍼파라미터 튜닝\\n│       └── GridSearchCV\\n│\\n├── 03 모델학습\\n│   │\\n│   ├── ensemble\\n│   │   ├── AdaBoostClassifier\\n│   │   ├── GradientBoostingClassifier\\n│   │   ├── RandomForestClassifier\\n│   │   └── RandomForestRegressor\\n│   │\\n│   ├── linear_model\\n│   │   ├── LogisticRegression\\n│   │   └── RidgeClassifier\\n│   │\\n│   ├── neighbors\\n│   │   └── KNeighborsClassifier\\n│   │\\n│   ├── svm\\n│   │   ├── SVC\\n│   │   └── SVR\\n│   │\\n│   └── tree\\n│       ├── DecisionTreeClassifier\\n│       ├── DecisionTreeRegressor\\n│       ├── ExtraTreeClassifier\\n│       └── ExtraTreeRegressor\\n│\\n├── 04 모델평가\\n│   │\\n│   ├── metrics\\n│   │   ├── accuracy_score\\n│   │   ├── classification_report\\n│   │   ├── confusion_matrix\\n│   │   ├── f1_score\\n│   │   ├── log_loss\\n│   │   ├── mean_absolute_error\\n│   │   ├── mean_squared_error\\n│   │   └── roc_auc_score\\n│   │\\n│   └── model (정의된 모델에서 추출)\\n│       ├── predict\\n│       └── predict_proba\\n│\\n└── 05 최종앙상블\\n    │\\n    └── ensemble\\n        ├── StackingClassifier\\n        ├── StackingRegressor\\n        ├── VotingClassifier\\n        └── VotingRegressor\\n        '"
      ]
     },
     "execution_count": 5,
     "metadata": {},
     "output_type": "execute_result"
    }
   ],
   "source": [
    "'''sklearn\n",
    "│\n",
    "├── 01 preprocessing (전처리)\n",
    "│   │\n",
    "│   ├── 스케일러\n",
    "│   │   ├── MinMaxScaler\n",
    "│   │   ├── RobustScaler\n",
    "│   │   └── StandardScaler\n",
    "│   │\n",
    "│   └── 인코더\n",
    "│       ├── LabelEncoder\n",
    "│       └── OneHotEncoder\n",
    "│  \n",
    "├── 02 model_selection (모델링 전처리)\n",
    "│   │\n",
    "│   ├── 데이터셋 분리\n",
    "│   │   ├── KFold\n",
    "│   │   ├── StratifiedKFold\n",
    "│   │   └── train_test_split\n",
    "│   │\n",
    "│   └── 하이퍼파라미터 튜닝\n",
    "│       └── GridSearchCV\n",
    "│\n",
    "├── 03 모델학습\n",
    "│   │\n",
    "│   ├── ensemble\n",
    "│   │   ├── AdaBoostClassifier\n",
    "│   │   ├── GradientBoostingClassifier\n",
    "│   │   ├── RandomForestClassifier\n",
    "│   │   └── RandomForestRegressor\n",
    "│   │\n",
    "│   ├── linear_model\n",
    "│   │   ├── LogisticRegression\n",
    "│   │   └── RidgeClassifier\n",
    "│   │\n",
    "│   ├── neighbors\n",
    "│   │   └── KNeighborsClassifier\n",
    "│   │\n",
    "│   ├── svm\n",
    "│   │   ├── SVC\n",
    "│   │   └── SVR\n",
    "│   │\n",
    "│   └── tree\n",
    "│       ├── DecisionTreeClassifier\n",
    "│       ├── DecisionTreeRegressor\n",
    "│       ├── ExtraTreeClassifier\n",
    "│       └── ExtraTreeRegressor\n",
    "│\n",
    "├── 04 모델평가\n",
    "│   │\n",
    "│   ├── metrics\n",
    "│   │   ├── accuracy_score\n",
    "│   │   ├── classification_report\n",
    "│   │   ├── confusion_matrix\n",
    "│   │   ├── f1_score\n",
    "│   │   ├── log_loss\n",
    "│   │   ├── mean_absolute_error\n",
    "│   │   ├── mean_squared_error\n",
    "│   │   └── roc_auc_score\n",
    "│   │\n",
    "│   └── model (정의된 모델에서 추출)\n",
    "│       ├── predict\n",
    "│       └── predict_proba\n",
    "│\n",
    "└── 05 최종앙상블\n",
    "    │\n",
    "    └── ensemble\n",
    "        ├── StackingClassifier\n",
    "        ├── StackingRegressor\n",
    "        ├── VotingClassifier\n",
    "        └── VotingRegressor\n",
    "        '''"
   ]
  }
 ],
 "metadata": {
  "kernelspec": {
   "display_name": "Python 3",
   "language": "python",
   "name": "python3"
  },
  "language_info": {
   "codemirror_mode": {
    "name": "ipython",
    "version": 3
   },
   "file_extension": ".py",
   "mimetype": "text/x-python",
   "name": "python",
   "nbconvert_exporter": "python",
   "pygments_lexer": "ipython3",
   "version": "3.9.4"
  },
  "papermill": {
   "default_parameters": {},
   "duration": 11.012079,
   "end_time": "2021-12-01T09:46:05.794718",
   "environment_variables": {},
   "exception": null,
   "input_path": "__notebook__.ipynb",
   "output_path": "__notebook__.ipynb",
   "parameters": {},
   "start_time": "2021-12-01T09:45:54.782639",
   "version": "2.3.3"
  }
 },
 "nbformat": 4,
 "nbformat_minor": 5
}
