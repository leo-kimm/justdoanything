{
 "cells": [
  {
   "cell_type": "code",
   "execution_count": 64,
   "id": "c675c614",
   "metadata": {},
   "outputs": [],
   "source": [
    "def solution(N):\n",
    "    # write your code in Python 3.6\n",
    "    num = int(N)\n",
    "    a = []\n",
    "    if num == 0 or num == 1:\n",
    "        return 0\n",
    "    \n",
    "    while True:\n",
    "        \n",
    "        a.append(str(num%2))\n",
    "\n",
    "        num = num//2\n",
    "        if num == 1:\n",
    "            a.append('1')\n",
    "\n",
    "            break\n",
    "    a.reverse()\n",
    "    answer = ''.join(a)\n",
    "    result = [0]\n",
    "    \n",
    "    for i in range(len(answer)):\n",
    "        cnt = 0\n",
    "        for j in range(1, len(answer)):\n",
    "            if answer[i]=='1' and i+j < len(answer):\n",
    "                if answer[i+j] == '0':\n",
    "                    cnt += 1\n",
    "                else:\n",
    "                    result.append(cnt)\n",
    "                    break\n",
    "        \n",
    "    return max(result)"
   ]
  },
  {
   "cell_type": "code",
   "execution_count": 65,
   "id": "64013964",
   "metadata": {},
   "outputs": [
    {
     "data": {
      "text/plain": [
       "5"
      ]
     },
     "execution_count": 65,
     "metadata": {},
     "output_type": "execute_result"
    }
   ],
   "source": [
    "solution(1041)"
   ]
  },
  {
   "cell_type": "code",
   "execution_count": 69,
   "id": "333bc04a",
   "metadata": {},
   "outputs": [
    {
     "data": {
      "text/plain": [
       "[-2, -1, 1, 2, 3, 4]"
      ]
     },
     "execution_count": 69,
     "metadata": {},
     "output_type": "execute_result"
    }
   ],
   "source": [
    "a = [1, -1, 2, -2 ,3 ,4]\n",
    "\n",
    "a.sort()\n",
    "a"
   ]
  },
  {
   "cell_type": "code",
   "execution_count": 83,
   "id": "c0af1f06",
   "metadata": {},
   "outputs": [],
   "source": [
    "from itertools import combinations\n",
    "\n",
    "def solution(A):\n",
    "\n",
    "    new_A = []\n",
    "    A.sort()\n",
    "    \n",
    "    if len(A)<5:\n",
    "        com = list(combinations(A, 3))\n",
    "\n",
    "        maxX = []\n",
    "\n",
    "        for i in range(len(com)):\n",
    "            xx = 1\n",
    "            for j in range(3):\n",
    "                xx *= com[i][j]\n",
    "            maxX.append(xx)\n",
    "\n",
    "        return max(maxX)\n",
    "        \n",
    "    else:\n",
    "        new_A.append(A[0])\n",
    "        new_A.append(A[1])\n",
    "        new_A.append(A[-1])\n",
    "        new_A.append(A[-2])\n",
    "        new_A.append(A[-3])\n",
    "\n",
    "    \n",
    "        com = list(combinations(new_A, 3))\n",
    "\n",
    "        maxX = []\n",
    "\n",
    "        for i in range(len(com)):\n",
    "            xx = 1\n",
    "            for j in range(3):\n",
    "                xx *= com[i][j]\n",
    "            maxX.append(xx)\n",
    "\n",
    "        return max(maxX)"
   ]
  },
  {
   "cell_type": "code",
   "execution_count": 84,
   "id": "c8442c66",
   "metadata": {},
   "outputs": [
    {
     "data": {
      "text/plain": [
       "60"
      ]
     },
     "execution_count": 84,
     "metadata": {},
     "output_type": "execute_result"
    }
   ],
   "source": [
    "solution([-3, 1, 2, -2, 5, 6])"
   ]
  },
  {
   "cell_type": "code",
   "execution_count": 14,
   "id": "780cd82e",
   "metadata": {},
   "outputs": [],
   "source": [
    "from itertools import combinations\n",
    "\n",
    "def solution(A, K, L):\n",
    "    \n",
    "    new_A = []\n",
    "    \n",
    "    apple_K = list(combinations(A, 3))\n",
    "    apple_L = list(combinations(A, 2))\n",
    "    \n",
    "    print(apple_K)\n",
    "    print(apple_L)\n",
    "    for i in apple_K:\n",
    "        i = list(i)\n",
    "        if i in A:\n",
    "            new_A.append(sum(i))\n",
    "    print(new_A)\n",
    "    \n",
    "    "
   ]
  },
  {
   "cell_type": "code",
   "execution_count": 15,
   "id": "917c8f41",
   "metadata": {
    "scrolled": true
   },
   "outputs": [
    {
     "name": "stdout",
     "output_type": "stream",
     "text": [
      "[(6, 1, 4), (6, 1, 6), (6, 1, 3), (6, 1, 2), (6, 1, 7), (6, 1, 4), (6, 4, 6), (6, 4, 3), (6, 4, 2), (6, 4, 7), (6, 4, 4), (6, 6, 3), (6, 6, 2), (6, 6, 7), (6, 6, 4), (6, 3, 2), (6, 3, 7), (6, 3, 4), (6, 2, 7), (6, 2, 4), (6, 7, 4), (1, 4, 6), (1, 4, 3), (1, 4, 2), (1, 4, 7), (1, 4, 4), (1, 6, 3), (1, 6, 2), (1, 6, 7), (1, 6, 4), (1, 3, 2), (1, 3, 7), (1, 3, 4), (1, 2, 7), (1, 2, 4), (1, 7, 4), (4, 6, 3), (4, 6, 2), (4, 6, 7), (4, 6, 4), (4, 3, 2), (4, 3, 7), (4, 3, 4), (4, 2, 7), (4, 2, 4), (4, 7, 4), (6, 3, 2), (6, 3, 7), (6, 3, 4), (6, 2, 7), (6, 2, 4), (6, 7, 4), (3, 2, 7), (3, 2, 4), (3, 7, 4), (2, 7, 4)]\n",
      "[(6, 1), (6, 4), (6, 6), (6, 3), (6, 2), (6, 7), (6, 4), (1, 4), (1, 6), (1, 3), (1, 2), (1, 7), (1, 4), (4, 6), (4, 3), (4, 2), (4, 7), (4, 4), (6, 3), (6, 2), (6, 7), (6, 4), (3, 2), (3, 7), (3, 4), (2, 7), (2, 4), (7, 4)]\n",
      "[]\n"
     ]
    }
   ],
   "source": [
    "solution([6,1,4,6,3,2,7,4], 3, 2)"
   ]
  },
  {
   "cell_type": "code",
   "execution_count": 33,
   "id": "7bcd011d",
   "metadata": {},
   "outputs": [],
   "source": [
    "def solution(A, K, L):\n",
    "    \n",
    "    if K == L:\n",
    "        return -1\n",
    "    \n",
    "    else:\n",
    "        sol3 = []\n",
    "\n",
    "        for i in range(len(A)):\n",
    "            if i < len(A)-2:\n",
    "                for j in range(1,len(A)):\n",
    "                    if j-i==1:\n",
    "                        for k in range(2,len(A)):\n",
    "                            if k-j==1:\n",
    "                                sol3.append(A[i]+A[j]+A[k])\n",
    "\n",
    "\n",
    "        sol2 = []\n",
    "\n",
    "        for i in range(len(A)):\n",
    "            if i < len(A)-1:\n",
    "                for j in range(1,len(A)):\n",
    "                    if j-i==1:\n",
    "                        sol2.append(A[i]+A[j])\n",
    "\n",
    "        return max(sol3)+max(sol2)\n",
    "                            "
   ]
  },
  {
   "cell_type": "code",
   "execution_count": 34,
   "id": "e42cd94a",
   "metadata": {},
   "outputs": [
    {
     "data": {
      "text/plain": [
       "24"
      ]
     },
     "execution_count": 34,
     "metadata": {},
     "output_type": "execute_result"
    }
   ],
   "source": [
    "solution([6,1,4,6,3,2,7,4], 3, 2)"
   ]
  },
  {
   "cell_type": "code",
   "execution_count": 35,
   "id": "bc5a3c84",
   "metadata": {},
   "outputs": [
    {
     "data": {
      "text/plain": [
       "-1"
      ]
     },
     "execution_count": 35,
     "metadata": {},
     "output_type": "execute_result"
    }
   ],
   "source": [
    "solution([10, 19, 15], 2, 2)"
   ]
  },
  {
   "cell_type": "code",
   "execution_count": 36,
   "id": "585987ff",
   "metadata": {},
   "outputs": [
    {
     "data": {
      "text/plain": [
       "39"
      ]
     },
     "execution_count": 36,
     "metadata": {},
     "output_type": "execute_result"
    }
   ],
   "source": [
    "solution([7, 7, 9, 1, 2], 3, 2)"
   ]
  },
  {
   "cell_type": "code",
   "execution_count": 58,
   "id": "93a95544",
   "metadata": {},
   "outputs": [],
   "source": [
    "def solution(A, K, L):\n",
    "    \n",
    "    if K == L:\n",
    "        return -1\n",
    "    \n",
    "    else:\n",
    "        sol_K = []\n",
    "        \n",
    "        for i in range(len(A)):\n",
    "            if i < len(A)-(K-1):\n",
    "                cnt = 0\n",
    "                a = 0\n",
    "                for j in range(K):\n",
    "                    a += A[i+cnt]\n",
    "                    cnt += 1\n",
    "                sol_K.append(a)\n",
    "                \n",
    "        print(sol_K)\n",
    "\n",
    "        sol_L = []\n",
    "\n",
    "        for i in range(len(A)):\n",
    "            if i < len(A)-(L-1):\n",
    "                cnt = 0\n",
    "                b = 0\n",
    "                for j in range(L):\n",
    "                    b += A[i+cnt]\n",
    "                    cnt += 1\n",
    "                sol_L.append(b)\n",
    "                \n",
    "        print(sol_L)\n",
    "\n",
    "        return max(sol_K)+max(sol_L)\n",
    "                            "
   ]
  },
  {
   "cell_type": "code",
   "execution_count": 59,
   "id": "2f3cb4b9",
   "metadata": {},
   "outputs": [
    {
     "name": "stdout",
     "output_type": "stream",
     "text": [
      "[11, 11, 13, 11, 12, 13]\n",
      "[7, 5, 10, 9, 5, 9, 11]\n"
     ]
    },
    {
     "data": {
      "text/plain": [
       "24"
      ]
     },
     "execution_count": 59,
     "metadata": {},
     "output_type": "execute_result"
    }
   ],
   "source": [
    "solution([6,1,4,6,3,2,7,4], 3, 2)"
   ]
  },
  {
   "cell_type": "code",
   "execution_count": 44,
   "id": "4edd3bde",
   "metadata": {},
   "outputs": [
    {
     "name": "stdout",
     "output_type": "stream",
     "text": [
      "[23, 17, 12]\n"
     ]
    },
    {
     "data": {
      "text/plain": [
       "39"
      ]
     },
     "execution_count": 44,
     "metadata": {},
     "output_type": "execute_result"
    }
   ],
   "source": [
    "solution([7, 7, 9, 1, 2], 3, 2)"
   ]
  },
  {
   "cell_type": "code",
   "execution_count": 45,
   "id": "c63b9f0b",
   "metadata": {},
   "outputs": [],
   "source": [
    "def solution(A):\n",
    "    # write your code in Python 3.6\n",
    "    cnt = 1\n",
    "    target = A[-1]\n",
    "\n",
    "    for i in range(len(A)-1,-1,-1):\n",
    "\n",
    "        if A[i]< target:\n",
    "            cnt += 1\n",
    "            target = A[i]\n",
    "            \n",
    "    return cnt"
   ]
  },
  {
   "cell_type": "code",
   "execution_count": 53,
   "id": "b70b5b5a",
   "metadata": {},
   "outputs": [],
   "source": [
    "def solution2(indices, K):\n",
    "    answer = []\n",
    "    a = indices[:K]\n",
    "    answer.append(a)\n",
    "    b = indices[K:]\n",
    "    answer.append(b)\n",
    "    answer.append(b)\n",
    "    answer.append(a)\n",
    "    return answer"
   ]
  },
  {
   "cell_type": "code",
   "execution_count": 57,
   "id": "2acb1ac9",
   "metadata": {},
   "outputs": [
    {
     "name": "stdout",
     "output_type": "stream",
     "text": [
      "[[1, 2, 3, 4], [5], [5], [1, 2, 3, 4]]\n"
     ]
    }
   ],
   "source": [
    "solution2([1,2,3,4,5], 4)"
   ]
  },
  {
   "cell_type": "code",
   "execution_count": null,
   "id": "4ef22fa2",
   "metadata": {},
   "outputs": [],
   "source": []
  }
 ],
 "metadata": {
  "kernelspec": {
   "display_name": "Python 3",
   "language": "python",
   "name": "python3"
  },
  "language_info": {
   "codemirror_mode": {
    "name": "ipython",
    "version": 3
   },
   "file_extension": ".py",
   "mimetype": "text/x-python",
   "name": "python",
   "nbconvert_exporter": "python",
   "pygments_lexer": "ipython3",
   "version": "3.9.4"
  }
 },
 "nbformat": 4,
 "nbformat_minor": 5
}
