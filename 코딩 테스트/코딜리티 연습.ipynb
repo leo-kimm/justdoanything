{
 "cells": [
  {
   "cell_type": "code",
   "execution_count": 64,
   "id": "c675c614",
   "metadata": {},
   "outputs": [],
   "source": [
    "def solution(N):\n",
    "    # write your code in Python 3.6\n",
    "    num = int(N)\n",
    "    a = []\n",
    "    if num == 0 or num == 1:\n",
    "        return 0\n",
    "    \n",
    "    while True:\n",
    "        \n",
    "        a.append(str(num%2))\n",
    "\n",
    "        num = num//2\n",
    "        if num == 1:\n",
    "            a.append('1')\n",
    "\n",
    "            break\n",
    "    a.reverse()\n",
    "    answer = ''.join(a)\n",
    "    result = [0]\n",
    "    \n",
    "    for i in range(len(answer)):\n",
    "        cnt = 0\n",
    "        for j in range(1, len(answer)):\n",
    "            if answer[i]=='1' and i+j < len(answer):\n",
    "                if answer[i+j] == '0':\n",
    "                    cnt += 1\n",
    "                else:\n",
    "                    result.append(cnt)\n",
    "                    break\n",
    "        \n",
    "    return max(result)"
   ]
  },
  {
   "cell_type": "code",
   "execution_count": 65,
   "id": "64013964",
   "metadata": {},
   "outputs": [
    {
     "data": {
      "text/plain": [
       "5"
      ]
     },
     "execution_count": 65,
     "metadata": {},
     "output_type": "execute_result"
    }
   ],
   "source": [
    "solution(1041)"
   ]
  },
  {
   "cell_type": "code",
   "execution_count": 69,
   "id": "333bc04a",
   "metadata": {},
   "outputs": [
    {
     "data": {
      "text/plain": [
       "[-2, -1, 1, 2, 3, 4]"
      ]
     },
     "execution_count": 69,
     "metadata": {},
     "output_type": "execute_result"
    }
   ],
   "source": [
    "a = [1, -1, 2, -2 ,3 ,4]\n",
    "\n",
    "a.sort()\n",
    "a"
   ]
  },
  {
   "cell_type": "code",
   "execution_count": 71,
   "id": "72645179",
   "metadata": {},
   "outputs": [
    {
     "data": {
      "text/plain": [
       "[(-2, -1, 1),\n",
       " (-2, -1, 2),\n",
       " (-2, -1, 3),\n",
       " (-2, -1, 4),\n",
       " (-2, 1, 2),\n",
       " (-2, 1, 3),\n",
       " (-2, 1, 4),\n",
       " (-2, 2, 3),\n",
       " (-2, 2, 4),\n",
       " (-2, 3, 4),\n",
       " (-1, 1, 2),\n",
       " (-1, 1, 3),\n",
       " (-1, 1, 4),\n",
       " (-1, 2, 3),\n",
       " (-1, 2, 4),\n",
       " (-1, 3, 4),\n",
       " (1, 2, 3),\n",
       " (1, 2, 4),\n",
       " (1, 3, 4),\n",
       " (2, 3, 4)]"
      ]
     },
     "execution_count": 71,
     "metadata": {},
     "output_type": "execute_result"
    }
   ],
   "source": [
    "from itertools import combinations\n",
    "\n",
    "com = list(combinations(a, 3))\n",
    "\n",
    "maxX = []\n",
    "\n",
    "for i in range(len(com)):\n",
    "    xx = 1\n",
    "    for j in range(3):\n",
    "        xx = j*xx\n",
    "    maxX.append(xx)\n",
    "\n",
    "return max(maxX)"
   ]
  },
  {
   "cell_type": "code",
   "execution_count": 83,
   "id": "c0af1f06",
   "metadata": {},
   "outputs": [],
   "source": [
    "from itertools import combinations\n",
    "\n",
    "def solution(A):\n",
    "\n",
    "    new_A = []\n",
    "    A.sort()\n",
    "    \n",
    "    if len(A)<5:\n",
    "        com = list(combinations(A, 3))\n",
    "\n",
    "        maxX = []\n",
    "\n",
    "        for i in range(len(com)):\n",
    "            xx = 1\n",
    "            for j in range(3):\n",
    "                xx *= com[i][j]\n",
    "            maxX.append(xx)\n",
    "\n",
    "        return max(maxX)\n",
    "        \n",
    "    else:\n",
    "        new_A.append(A[0])\n",
    "        new_A.append(A[1])\n",
    "        new_A.append(A[-1])\n",
    "        new_A.append(A[-2])\n",
    "        new_A.append(A[-3])\n",
    "\n",
    "    \n",
    "        com = list(combinations(new_A, 3))\n",
    "\n",
    "        maxX = []\n",
    "\n",
    "        for i in range(len(com)):\n",
    "            xx = 1\n",
    "            for j in range(3):\n",
    "                xx *= com[i][j]\n",
    "            maxX.append(xx)\n",
    "\n",
    "        return max(maxX)"
   ]
  },
  {
   "cell_type": "code",
   "execution_count": 84,
   "id": "c8442c66",
   "metadata": {},
   "outputs": [
    {
     "data": {
      "text/plain": [
       "60"
      ]
     },
     "execution_count": 84,
     "metadata": {},
     "output_type": "execute_result"
    }
   ],
   "source": [
    "solution([-3, 1, 2, -2, 5, 6])"
   ]
  },
  {
   "cell_type": "code",
   "execution_count": 87,
   "id": "dc051178",
   "metadata": {},
   "outputs": [],
   "source": [
    "from itertools import combinations\n",
    "\n",
    "def solution(A):\n",
    "    result = []\n",
    "    new_A = []\n",
    "    A.sort()\n",
    "    if len(A)<5:\n",
    "        triplet = list(combinations(A, 3))\n",
    "        for i in range(len(triplet)):\n",
    "            XX = 1\n",
    "            for j in range(3):\n",
    "                XX *= triplet[i][j]\n",
    "            result.append(XX)\n",
    "        return max(result)\n",
    "\n",
    "    else:\n",
    "        new_A.append(A[0])\n",
    "        new_A.append(A[1])\n",
    "        new_A.append(A[-1])\n",
    "        new_A.append(A[-2])\n",
    "        new_A.append(A[-3])\n",
    "        triplet = list(combinations(new_A, 3))\n",
    "        for i in range(len(triplet)):\n",
    "            XX = 1\n",
    "            for j in range(3):\n",
    "                XX *= triplet[i][j]\n",
    "            result.append(XX)\n",
    "        return max(result)"
   ]
  },
  {
   "cell_type": "code",
   "execution_count": 88,
   "id": "e0275cb8",
   "metadata": {},
   "outputs": [
    {
     "data": {
      "text/plain": [
       "60"
      ]
     },
     "execution_count": 88,
     "metadata": {},
     "output_type": "execute_result"
    }
   ],
   "source": [
    "solution([-3, 1, 2, -2, 5, 6])"
   ]
  },
  {
   "cell_type": "code",
   "execution_count": null,
   "id": "780cd82e",
   "metadata": {},
   "outputs": [],
   "source": []
  }
 ],
 "metadata": {
  "kernelspec": {
   "display_name": "Python 3",
   "language": "python",
   "name": "python3"
  },
  "language_info": {
   "codemirror_mode": {
    "name": "ipython",
    "version": 3
   },
   "file_extension": ".py",
   "mimetype": "text/x-python",
   "name": "python",
   "nbconvert_exporter": "python",
   "pygments_lexer": "ipython3",
   "version": "3.9.4"
  }
 },
 "nbformat": 4,
 "nbformat_minor": 5
}
