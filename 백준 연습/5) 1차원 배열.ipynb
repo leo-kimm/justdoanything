{
 "cells": [
  {
   "cell_type": "code",
   "execution_count": 2,
   "metadata": {},
   "outputs": [
    {
     "name": "stdout",
     "output_type": "stream",
     "text": [
      "5\n",
      "20 10 35 30 7\n",
      "7 35\n"
     ]
    }
   ],
   "source": [
    "# 10818\n",
    "# 최소 최대\n",
    "\n",
    "n = int(input())\n",
    "n_list = list(map(int, input().split()))\n",
    "print(min(n_list), max(n_list))"
   ]
  },
  {
   "cell_type": "code",
   "execution_count": 5,
   "metadata": {},
   "outputs": [
    {
     "name": "stdout",
     "output_type": "stream",
     "text": [
      "3\n",
      "29\n",
      "38\n",
      "12\n",
      "57\n",
      "74\n",
      "40\n",
      "85\n",
      "61\n",
      "85\n",
      "8\n"
     ]
    }
   ],
   "source": [
    "# 2562\n",
    "# 최댓값\n",
    "\n",
    "num_list = []\n",
    "\n",
    "for i in range(9):\n",
    "    num = int(input())\n",
    "    num_list.append(num)\n",
    "    \n",
    "print(max(num_list))\n",
    "print(num_list.index(max(num_list))+1)"
   ]
  },
  {
   "cell_type": "code",
   "execution_count": 8,
   "metadata": {},
   "outputs": [
    {
     "name": "stdout",
     "output_type": "stream",
     "text": [
      "150\n",
      "266\n",
      "427\n",
      "3\n",
      "1\n",
      "0\n",
      "2\n",
      "0\n",
      "0\n",
      "0\n",
      "2\n",
      "0\n"
     ]
    }
   ],
   "source": [
    "# 2577\n",
    "# 숫자의 갯수\n",
    "\n",
    "\n",
    "num_x = 1\n",
    "\n",
    "for i in range(3):\n",
    "    num = int(input())\n",
    "    num_x = num_x*num\n",
    "\n",
    "num_x = str(num_x)\n",
    "\n",
    "for i in range(10):\n",
    "    print(num_x.count(str(i)))\n"
   ]
  },
  {
   "cell_type": "code",
   "execution_count": 10,
   "metadata": {},
   "outputs": [
    {
     "name": "stdout",
     "output_type": "stream",
     "text": [
      "42\n",
      "84\n",
      "252\n",
      "420\n",
      "840\n",
      "126\n",
      "42\n",
      "84\n",
      "420\n",
      "126\n",
      "1\n"
     ]
    }
   ],
   "source": [
    "# 3052\n",
    "# 나머지\n",
    "\n",
    "answer = []\n",
    "\n",
    "for i in range(10):\n",
    "    num = int(input())\n",
    "    answer.append(num%42)\n",
    "    \n",
    "answer = set(answer)\n",
    "print(len(answer))"
   ]
  },
  {
   "cell_type": "code",
   "execution_count": 12,
   "metadata": {},
   "outputs": [
    {
     "name": "stdout",
     "output_type": "stream",
     "text": [
      "3\n",
      "10 20 30\n",
      "66.66666666666667\n"
     ]
    }
   ],
   "source": [
    "# 1546\n",
    "# 평균\n",
    "\n",
    "n = int(input())\n",
    "score_list = list(map(int, input().split()))\n",
    "    \n",
    "answer = 0    \n",
    "for i in score_list:\n",
    "    answer += i/max(score_list)*100\n",
    "    \n",
    "print(answer/n)"
   ]
  },
  {
   "cell_type": "code",
   "execution_count": 27,
   "metadata": {},
   "outputs": [
    {
     "name": "stdout",
     "output_type": "stream",
     "text": [
      "5\n",
      "OOXXOXXOOO\n",
      "OOXXOOXXOO\n",
      "OXOXOXOXOXOXOX\n",
      "OOOOOOOOOO\n",
      "OOOOXOOOOXOOOOX\n",
      "[10, 9, 7, 55, 30]\n"
     ]
    }
   ],
   "source": [
    "# 8958\n",
    "# OX퀴즈\n",
    "\n",
    "n = int(input())\n",
    "ox_list = []\n",
    "# ox_slist = []\n",
    "\n",
    "\n",
    "for i in range(n):\n",
    "    ox = str(input())\n",
    "    ox_list.append(ox)\n",
    "\n",
    "for j in ox_list:\n",
    "    ox_score = 0\n",
    "    ocount = 0\n",
    "    for k in range(len(j)):\n",
    "        if j[k]=='O':\n",
    "            ocount+= 1\n",
    "            ox_score+= 1*ocount\n",
    "            \n",
    "            \n",
    "        else:\n",
    "            ocount = 0\n",
    "        \n",
    "    print(ox_score)\n",
    "    \n",
    "#     ox_slist.append(ox_score)\n",
    "\n",
    "#     print(ox_slist)"
   ]
  },
  {
   "cell_type": "code",
   "execution_count": 42,
   "metadata": {},
   "outputs": [
    {
     "name": "stdout",
     "output_type": "stream",
     "text": [
      "2\n",
      "5 50 50 70 80 100\n",
      "3 70 90 80\n",
      "40.000%\n",
      "33.333%\n"
     ]
    }
   ],
   "source": [
    "# 4344\n",
    "# 평균은 넘겠지\n",
    "\n",
    "n = int(input())\n",
    "score_list = []\n",
    "avg_list = []\n",
    "\n",
    "for i in range(n):\n",
    "    score_class = list(map(int, input().split()))\n",
    "    score_list.append(score_class)\n",
    "    avg_class = sum(score_class[1:])/score_class[0]\n",
    "    avg_list.append(avg_class)\n",
    "    \n",
    "avg_cnt = 0\n",
    "\n",
    "for j in score_list:\n",
    "    cnt = 0\n",
    "    for k in j[1:]:\n",
    "        if k > avg_list[avg_cnt]:\n",
    "            cnt += 1\n",
    "    answer = cnt/j[0]*100\n",
    "    print(str(format(answer,'.3f'))+'%')\n",
    "    avg_cnt +=1"
   ]
  },
  {
   "cell_type": "code",
   "execution_count": null,
   "metadata": {},
   "outputs": [],
   "source": []
  }
 ],
 "metadata": {
  "kernelspec": {
   "display_name": "Python 3",
   "language": "python",
   "name": "python3"
  },
  "language_info": {
   "codemirror_mode": {
    "name": "ipython",
    "version": 3
   },
   "file_extension": ".py",
   "mimetype": "text/x-python",
   "name": "python",
   "nbconvert_exporter": "python",
   "pygments_lexer": "ipython3",
   "version": "3.8.5"
  }
 },
 "nbformat": 4,
 "nbformat_minor": 4
}
