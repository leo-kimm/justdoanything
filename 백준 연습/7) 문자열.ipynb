{
 "cells": [
  {
   "cell_type": "code",
   "execution_count": 39,
   "id": "1987f2d3",
   "metadata": {},
   "outputs": [],
   "source": [
    "# 11654\n",
    "# 아스키 코드\n",
    "\n",
    "def ASCcode():\n",
    "    inputstring = input()\n",
    "    ASC = {}\n",
    "    for i in range(10):\n",
    "        ASC[i]=i+48\n",
    "    n = 65\n",
    "    for j in 'ABCDEFGHIJKLMNOPQRSTUVWXYZ':\n",
    "        \n",
    "        ASC[j] = n\n",
    "        n += 1\n",
    "    n = 97\n",
    "    for k in 'abcdefghijklmnopqrstuvwxyz':\n",
    "        ASC[k] = n\n",
    "        n += 1\n",
    "        \n",
    "    try:\n",
    "        print(ASC[int(inputstring)])\n",
    "    except:\n",
    "        print(ASC[inputstring])\n",
    "    \n",
    "    "
   ]
  },
  {
   "cell_type": "code",
   "execution_count": 42,
   "id": "fa6cbca7",
   "metadata": {},
   "outputs": [
    {
     "name": "stdout",
     "output_type": "stream",
     "text": [
      "z\n",
      "122\n"
     ]
    }
   ],
   "source": [
    "ASCcode()"
   ]
  },
  {
   "cell_type": "code",
   "execution_count": 34,
   "id": "82b0f9e8",
   "metadata": {},
   "outputs": [
    {
     "data": {
      "text/plain": [
       "{0: 48,\n",
       " 1: 49,\n",
       " 2: 50,\n",
       " 3: 51,\n",
       " 4: 52,\n",
       " 5: 53,\n",
       " 6: 54,\n",
       " 7: 55,\n",
       " 8: 56,\n",
       " 9: 57,\n",
       " 'A': 65,\n",
       " 'B': 66,\n",
       " 'C': 67,\n",
       " 'D': 68,\n",
       " 'E': 69,\n",
       " 'F': 70,\n",
       " 'G': 71,\n",
       " 'H': 72,\n",
       " 'I': 73,\n",
       " 'J': 74,\n",
       " 'K': 75,\n",
       " 'L': 76,\n",
       " 'M': 77,\n",
       " 'N': 78,\n",
       " 'O': 79,\n",
       " 'P': 80,\n",
       " 'Q': 81,\n",
       " 'R': 82,\n",
       " 'S': 83,\n",
       " 'T': 84,\n",
       " 'U': 85,\n",
       " 'V': 86,\n",
       " 'W': 87,\n",
       " 'X': 88,\n",
       " 'Y': 89,\n",
       " 'Z': 90,\n",
       " 'a': 97,\n",
       " 'b': 98,\n",
       " 'c': 99,\n",
       " 'd': 100,\n",
       " 'e': 101,\n",
       " 'f': 102,\n",
       " 'g': 103,\n",
       " 'h': 104,\n",
       " 'i': 105,\n",
       " 'j': 106,\n",
       " 'k': 107,\n",
       " 'l': 108,\n",
       " 'm': 109,\n",
       " 'n': 110,\n",
       " 'o': 111,\n",
       " 'p': 112,\n",
       " 'q': 113,\n",
       " 'r': 114,\n",
       " 's': 115,\n",
       " 't': 116,\n",
       " 'u': 117,\n",
       " 'v': 118,\n",
       " 'w': 119,\n",
       " 'x': 120,\n",
       " 'y': 121,\n",
       " 'z': 122}"
      ]
     },
     "execution_count": 34,
     "metadata": {},
     "output_type": "execute_result"
    }
   ],
   "source": [
    "ASC"
   ]
  },
  {
   "cell_type": "code",
   "execution_count": 47,
   "id": "039d00b4",
   "metadata": {},
   "outputs": [],
   "source": [
    "# 11720\n",
    "# 숫자의 합\n",
    "def sumnum():\n",
    "    count = int(input())\n",
    "    s_num = str(input())\n",
    "    answer = 0\n",
    "    for i in s_num:\n",
    "        answer += int(i)\n",
    "    print(answer)"
   ]
  },
  {
   "cell_type": "code",
   "execution_count": 48,
   "id": "a03d6750",
   "metadata": {},
   "outputs": [
    {
     "name": "stdout",
     "output_type": "stream",
     "text": [
      "5\n",
      "54321\n",
      "15\n"
     ]
    }
   ],
   "source": [
    "sumnum()"
   ]
  },
  {
   "cell_type": "code",
   "execution_count": 12,
   "id": "42d9f984",
   "metadata": {},
   "outputs": [],
   "source": [
    "# 10809\n",
    "# 알파벳 찾기\n",
    "\n",
    "def Alphabet(word):\n",
    "    answer = []\n",
    "    for i in 'abcdefghijklmnopqrstuvwxyz':\n",
    "        if i in word:\n",
    "            answer.append(str(word.index(i)))\n",
    "        else:\n",
    "            answer.append('-1')\n",
    "    a = \" \".join(answer)\n",
    "    return a\n",
    "    "
   ]
  },
  {
   "cell_type": "code",
   "execution_count": 13,
   "id": "e006d94c",
   "metadata": {},
   "outputs": [
    {
     "data": {
      "text/plain": [
       "'1 0 -1 -1 2 -1 -1 -1 -1 4 3 -1 -1 7 5 -1 -1 -1 -1 -1 -1 -1 -1 -1 -1 -1'"
      ]
     },
     "execution_count": 13,
     "metadata": {},
     "output_type": "execute_result"
    }
   ],
   "source": [
    "Alphabet('baekjoon')"
   ]
  },
  {
   "cell_type": "code",
   "execution_count": 17,
   "id": "ac0069d1",
   "metadata": {},
   "outputs": [
    {
     "name": "stdout",
     "output_type": "stream",
     "text": [
      "baekjoon\n",
      "1 0 -1 -1 2 -1 -1 -1 -1 4 3 -1 -1 7 5 -1 -1 -1 -1 -1 -1 -1 -1 -1 -1 -1\n"
     ]
    }
   ],
   "source": [
    "# 제출용\n",
    "def Alphabet():\n",
    "    word = input()\n",
    "    answer = []\n",
    "    for i in 'abcdefghijklmnopqrstuvwxyz':\n",
    "        if i in word:\n",
    "            answer.append(str(word.index(i)))\n",
    "        else:\n",
    "            answer.append('-1')\n",
    "    a = \" \".join(answer)\n",
    "    return a\n",
    "    # 제출은 print(a)\n",
    "\n",
    "Alphabet()"
   ]
  },
  {
   "cell_type": "code",
   "execution_count": 8,
   "id": "705d8c08",
   "metadata": {},
   "outputs": [],
   "source": [
    "# 2675\n",
    "# 문자열 반복\n",
    "\n",
    "def repeat(words):\n",
    "    n = int(input())\n",
    "    for i in range(n):\n",
    "        words = input()\n",
    "        answer = []\n",
    "        words = words.split(' ')\n",
    "        n = int(words[0])\n",
    "        word = words[1]\n",
    "        for j in word:\n",
    "            answer.append(j*n)\n",
    "\n",
    "        print(''.join(answer))"
   ]
  },
  {
   "cell_type": "code",
   "execution_count": 11,
   "id": "cc53bbd9",
   "metadata": {},
   "outputs": [
    {
     "data": {
      "text/plain": [
       "'AAABBBCCC'"
      ]
     },
     "execution_count": 11,
     "metadata": {},
     "output_type": "execute_result"
    }
   ],
   "source": [
    "repeat('3 ABC')"
   ]
  },
  {
   "cell_type": "code",
   "execution_count": 12,
   "id": "546b60d9",
   "metadata": {},
   "outputs": [
    {
     "data": {
      "text/plain": [
       "'/////HHHHHTTTTTPPPPP'"
      ]
     },
     "execution_count": 12,
     "metadata": {},
     "output_type": "execute_result"
    }
   ],
   "source": [
    "repeat('5 /HTP')"
   ]
  },
  {
   "cell_type": "code",
   "execution_count": 19,
   "id": "659332c6",
   "metadata": {},
   "outputs": [
    {
     "name": "stdout",
     "output_type": "stream",
     "text": [
      "2\n",
      "3 ABC\n",
      "AAABBBCCC\n",
      "5 /HTP\n",
      "/////HHHHHTTTTTPPPPP\n"
     ]
    }
   ],
   "source": [
    "# 제출용\n",
    "\n",
    "n = int(input())\n",
    "for i in range(n):    \n",
    "    words = input()\n",
    "    answer = []\n",
    "    words = words.split(' ')\n",
    "    n = int(words[0])\n",
    "    word = words[1]\n",
    "    for i in word:\n",
    "        answer.append(i*n)\n",
    "\n",
    "    print(''.join(answer))"
   ]
  },
  {
   "cell_type": "code",
   "execution_count": 35,
   "id": "80c95eb0",
   "metadata": {},
   "outputs": [],
   "source": [
    "# 1157\n",
    "# 단어공부\n",
    "\n",
    "def most_alpha(words):\n",
    "    upper_words = []\n",
    "    answer = []\n",
    "    for i in words:\n",
    "        upper_words.append(i.upper())\n",
    "    print(upper_words)\n",
    "    set_words = set(upper_words)\n",
    "    for j in set_words:    \n",
    "        answer.append(upper_words.count(j))\n",
    "    answer.sort()\n",
    "    print(answer)\n",
    "    if max(answer) not in answer[:-1]:\n",
    "        print(upper_words[answer.index(max(answer))])\n",
    "    else:\n",
    "        print('?')"
   ]
  },
  {
   "cell_type": "code",
   "execution_count": 36,
   "id": "d74eb7fd",
   "metadata": {},
   "outputs": [
    {
     "data": {
      "text/plain": [
       "'C'"
      ]
     },
     "execution_count": 36,
     "metadata": {},
     "output_type": "execute_result"
    }
   ],
   "source": [
    "most_alpha('abcc')"
   ]
  },
  {
   "cell_type": "code",
   "execution_count": 38,
   "id": "5f2fde2d",
   "metadata": {},
   "outputs": [
    {
     "data": {
      "text/plain": [
       "'?'"
      ]
     },
     "execution_count": 38,
     "metadata": {},
     "output_type": "execute_result"
    }
   ],
   "source": [
    "most_alpha('Mississipi')"
   ]
  },
  {
   "cell_type": "code",
   "execution_count": 59,
   "id": "803a684c",
   "metadata": {},
   "outputs": [
    {
     "name": "stdout",
     "output_type": "stream",
     "text": [
      "dferagaergew\n",
      "{'R', 'D', 'F', 'W', 'A', 'E', 'G'}\n",
      "[1, 1, 1, 2, 2, 2, 3]\n",
      "A\n"
     ]
    }
   ],
   "source": [
    "# 제출용\n",
    "\n",
    "def most_alpha():\n",
    "    words = input()\n",
    "\n",
    "    upper_words = []\n",
    "    answer = []\n",
    "    for i in words:\n",
    "        upper_words.append(i.upper())\n",
    "\n",
    "    set_words = set(upper_words)\n",
    "    print(set_words)\n",
    "    for j in set_words:    \n",
    "        answer.append(upper_words.count(j))\n",
    "    answer.sort()\n",
    "    print(answer)\n",
    "    if max(answer) not in answer[:-1]:\n",
    "        print(upper_words[answer.index(max(answer))])\n",
    "    else:\n",
    "        print('?')\n",
    "    \n",
    "most_alpha()"
   ]
  },
  {
   "cell_type": "code",
   "execution_count": null,
   "id": "7cce55c6",
   "metadata": {},
   "outputs": [],
   "source": []
  }
 ],
 "metadata": {
  "kernelspec": {
   "display_name": "Python 3",
   "language": "python",
   "name": "python3"
  },
  "language_info": {
   "codemirror_mode": {
    "name": "ipython",
    "version": 3
   },
   "file_extension": ".py",
   "mimetype": "text/x-python",
   "name": "python",
   "nbconvert_exporter": "python",
   "pygments_lexer": "ipython3",
   "version": "3.9.4"
  }
 },
 "nbformat": 4,
 "nbformat_minor": 5
}
