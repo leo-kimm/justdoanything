{
 "cells": [
  {
   "cell_type": "code",
   "execution_count": 5,
   "id": "4697db87",
   "metadata": {},
   "outputs": [
    {
     "name": "stdout",
     "output_type": "stream",
     "text": [
      "4 11\n",
      "802\n",
      "743\n",
      "457\n",
      "539\n",
      "231\n"
     ]
    }
   ],
   "source": [
    "# 1654\n",
    "# 랜선 자르기\n",
    "\n",
    "k, n = map(int, input().split())\n",
    "lan_list = []\n",
    "\n",
    "for i in range(k):\n",
    "    lan = int(input())\n",
    "    lan_list.append(lan)\n",
    "\n",
    "print(sum(lan_list)//n)"
   ]
  },
  {
   "cell_type": "code",
   "execution_count": 13,
   "id": "9c66fbdf",
   "metadata": {},
   "outputs": [
    {
     "name": "stdout",
     "output_type": "stream",
     "text": [
      "200\n"
     ]
    }
   ],
   "source": [
    "answer = min(lan_list)\n",
    "\n",
    "\n",
    "while lan_num < n:\n",
    "    lan_num = 0\n",
    "\n",
    "    for i in lan_list:\n",
    "        lan_num += i//answer\n",
    "    \n",
    "    answer -= 1\n",
    "\n",
    "print(answer+1)"
   ]
  },
  {
   "cell_type": "code",
   "execution_count": 10,
   "id": "112a5bd3",
   "metadata": {},
   "outputs": [
    {
     "name": "stdout",
     "output_type": "stream",
     "text": [
      "200\n",
      "247\n",
      "228\n",
      "269\n"
     ]
    }
   ],
   "source": [
    "print(802//4)\n",
    "print(743//3)\n",
    "print(457//2)\n",
    "print(539//2)"
   ]
  },
  {
   "cell_type": "code",
   "execution_count": 25,
   "id": "97d7c520",
   "metadata": {},
   "outputs": [
    {
     "name": "stdout",
     "output_type": "stream",
     "text": [
      "4 11\n",
      "802\n",
      "743\n",
      "457\n",
      "539\n",
      "231\n",
      "230\n",
      "229\n",
      "228\n",
      "227\n",
      "226\n",
      "225\n",
      "224\n",
      "223\n",
      "222\n",
      "221\n",
      "220\n",
      "219\n",
      "218\n",
      "217\n",
      "216\n",
      "215\n",
      "214\n",
      "213\n",
      "212\n",
      "211\n",
      "210\n",
      "209\n",
      "208\n",
      "207\n",
      "206\n",
      "205\n",
      "204\n",
      "203\n",
      "202\n",
      "201\n",
      "200\n",
      "200\n"
     ]
    }
   ],
   "source": [
    "# 1654\n",
    "# 랜선 자르기\n",
    "k, n = map(int, input().split())\n",
    "lan_list = []\n",
    "\n",
    "for i in range(k):\n",
    "    lan = int(input())\n",
    "    lan_list.append(lan)\n",
    "    \n",
    "answer = sum(lan_list)//n\n",
    "print(answer)\n",
    "lan_num = 0\n",
    "\n",
    "while lan_num < n:\n",
    "    lan_num = 0\n",
    "\n",
    "    for i in lan_list:\n",
    "        lan_num += i//answer\n",
    "        \n",
    "    if lan_num == n:\n",
    "        break\n",
    "    answer -= 1\n",
    "    print(answer)\n",
    "print(answer)"
   ]
  },
  {
   "cell_type": "code",
   "execution_count": 41,
   "id": "a53b576d",
   "metadata": {},
   "outputs": [
    {
     "name": "stdout",
     "output_type": "stream",
     "text": [
      "4 11\n",
      "802\n",
      "743\n",
      "457\n",
      "539\n",
      "200\n"
     ]
    }
   ],
   "source": [
    "# 1654\n",
    "# 랜선 자르기\n",
    "# 이분탐색\n",
    "\n",
    "k, n = map(int, input().split())\n",
    "lan_list = []\n",
    "\n",
    "for i in range(k):\n",
    "    lan = int(input())\n",
    "    lan_list.append(lan)\n",
    "    \n",
    "end = sum(lan_list)//n\n",
    "start = 1\n",
    "\n",
    "lan_num = 0\n",
    "\n",
    "\n",
    "while start <= end:\n",
    "    mid = (start+ end)//2\n",
    "    lan_num = 0\n",
    "\n",
    "    for i in lan_list:\n",
    "        lan_num += i//mid\n",
    "        \n",
    "    if lan_num >= n:\n",
    "        start = mid +1 \n",
    "    else:\n",
    "        end = mid -1\n",
    "\n",
    "print(end)"
   ]
  },
  {
   "cell_type": "code",
   "execution_count": null,
   "id": "1cbef677",
   "metadata": {},
   "outputs": [],
   "source": []
  }
 ],
 "metadata": {
  "kernelspec": {
   "display_name": "Python 3",
   "language": "python",
   "name": "python3"
  },
  "language_info": {
   "codemirror_mode": {
    "name": "ipython",
    "version": 3
   },
   "file_extension": ".py",
   "mimetype": "text/x-python",
   "name": "python",
   "nbconvert_exporter": "python",
   "pygments_lexer": "ipython3",
   "version": "3.9.4"
  }
 },
 "nbformat": 4,
 "nbformat_minor": 5
}
