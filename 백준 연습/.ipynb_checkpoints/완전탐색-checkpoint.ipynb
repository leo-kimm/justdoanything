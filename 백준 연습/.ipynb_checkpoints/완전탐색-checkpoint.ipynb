{
 "cells": [
  {
   "cell_type": "markdown",
   "id": "094b49d2",
   "metadata": {},
   "source": [
    "## 완전탐색 > 모의고사"
   ]
  },
  {
   "cell_type": "code",
   "execution_count": 86,
   "id": "245f302a",
   "metadata": {},
   "outputs": [],
   "source": [
    "# 완전탐색 > 모의고사\n",
    "\n",
    "def solution(answers):\n",
    "    answer = []\n",
    "    stu_1 = [1,2,3,4,5]\n",
    "    stu_2 = [2,1,2,3,2,4,2,5]\n",
    "    stu_3 = [3,3,1,1,2,2,4,4,5,5]\n",
    "    \n",
    "    s1 = []\n",
    "    s2 = []\n",
    "    s3 = []\n",
    "    \n",
    "    # 정답수에 맞춘 답안 작성 리스트 만들기\n",
    "    n1=0\n",
    "    n2=0\n",
    "    n3=0\n",
    "\n",
    "    for i in range(len(answers)):\n",
    "        s1.append(stu_1[n1])\n",
    "        n1+=1\n",
    "        if n1 == len(stu_1):\n",
    "            n1=0\n",
    "\n",
    "        s2.append(stu_2[n2])\n",
    "        n2+=1\n",
    "        if n2 == len(stu_2):\n",
    "            n2=0\n",
    "\n",
    "        s3.append(stu_3[n3])\n",
    "        n3+=1\n",
    "        if n3 == len(stu_3):\n",
    "            n3=0\n",
    "            \n",
    "    # 정답 갯수 세기\n",
    "    cnt=0\n",
    "    # 1번학생 답 확인\n",
    "    for i in range(len(s1)):\n",
    "        if s1[i] == answers[i]:\n",
    "            cnt += 1\n",
    "        else:\n",
    "            pass\n",
    "    answer.append(cnt)\n",
    "    cnt = 0\n",
    "    # 2번학생 답 확인\n",
    "    for i in range(len(s2)):\n",
    "        if s2[i] == answers[i]:\n",
    "            cnt += 1\n",
    "        else:\n",
    "            pass\n",
    "    answer.append(cnt)\n",
    "    cnt = 0\n",
    "    # 3번학생 답 확인\n",
    "    for i in range(len(s3)):\n",
    "        if s3[i] == answers[i]:\n",
    "            cnt += 1\n",
    "        else:\n",
    "            pass\n",
    "    answer.append(cnt)\n",
    "        \n",
    "\n",
    "    # 맞은 갯수 제일 많은 사람 리스트 만들기\n",
    "    ans2 = []\n",
    "    if answer.count(max(answer))==1:\n",
    "        ans2.append(answer.index(max(answer))+1)\n",
    "        return ans2\n",
    "    elif answer.count(max(answer))==2:\n",
    "        ans2.append(answer.index(max(answer))+1)\n",
    "        answer[answer.index(max(answer))]=0\n",
    "        ans2.append(answer.index(max(answer))+1)\n",
    "        return ans2\n",
    "    else:\n",
    "        return [1,2,3]"
   ]
  },
  {
   "cell_type": "code",
   "execution_count": 87,
   "id": "abeabdea",
   "metadata": {},
   "outputs": [
    {
     "name": "stdout",
     "output_type": "stream",
     "text": [
      "[5, 0, 0]\n"
     ]
    },
    {
     "data": {
      "text/plain": [
       "[1]"
      ]
     },
     "execution_count": 87,
     "metadata": {},
     "output_type": "execute_result"
    }
   ],
   "source": [
    "solution([1,2,3,4,5])"
   ]
  },
  {
   "cell_type": "code",
   "execution_count": 88,
   "id": "c06563b6",
   "metadata": {},
   "outputs": [
    {
     "name": "stdout",
     "output_type": "stream",
     "text": [
      "[2, 4, 4]\n"
     ]
    },
    {
     "data": {
      "text/plain": [
       "[2, 3]"
      ]
     },
     "execution_count": 88,
     "metadata": {},
     "output_type": "execute_result"
    }
   ],
   "source": [
    "solution([2,3,3,5,2,2,3,3,5,1,2,4,5,2])"
   ]
  },
  {
   "cell_type": "code",
   "execution_count": 75,
   "id": "19717f57",
   "metadata": {
    "scrolled": true
   },
   "outputs": [
    {
     "name": "stdout",
     "output_type": "stream",
     "text": [
      "[1]\n",
      "1\n",
      "--------구분---------\n",
      "[1, 2]\n",
      "2\n",
      "--------구분---------\n",
      "[1, 2, 3]\n",
      "3\n",
      "--------구분---------\n",
      "[1, 2, 3, 4]\n",
      "4\n",
      "--------구분---------\n",
      "[1, 2, 3, 4, 5]\n",
      "0\n",
      "--------구분---------\n",
      "[1, 2, 3, 4, 5, 1]\n",
      "1\n",
      "--------구분---------\n",
      "[1, 2, 3, 4, 5, 1, 2]\n",
      "2\n",
      "--------구분---------\n",
      "[1, 2, 3, 4, 5, 1, 2, 3]\n",
      "3\n",
      "--------구분---------\n",
      "[1, 2, 3, 4, 5, 1, 2, 3, 4]\n",
      "4\n",
      "--------구분---------\n"
     ]
    }
   ],
   "source": [
    "stu_1 = [1,2,3,4,5]\n",
    "s1 = []\n",
    "answers = [2,3,3,5,2,2,3,3,5]\n",
    "\n",
    "while True:\n",
    "    n=0\n",
    "    for i in range(len(answers)):\n",
    "        s1.append(stu_1[n])\n",
    "        n+=1\n",
    "        if n == len(stu_1):\n",
    "            n=0\n",
    "\n",
    "        print(s1)\n",
    "        print(n)\n",
    "        print('--------구분---------')\n",
    "\n",
    "    break"
   ]
  },
  {
   "cell_type": "markdown",
   "id": "ed58f6ea",
   "metadata": {},
   "source": [
    "## 완전탐색 > 소수찾기"
   ]
  },
  {
   "cell_type": "code",
   "execution_count": 121,
   "id": "091ce7af",
   "metadata": {},
   "outputs": [
    {
     "name": "stdout",
     "output_type": "stream",
     "text": [
      "['0', '1', '1']\n",
      "[[('0',), ('1',), ('1',)], [('0', '1'), ('0', '1'), ('1', '1')], [('0', '1', '1')]]\n"
     ]
    }
   ],
   "source": [
    "from itertools import combinations\n",
    "numbers='011'\n",
    "\n",
    "list_num = []\n",
    "for i in numbers:\n",
    "    list_num.append(i)\n",
    "\n",
    "print(list_num)\n",
    "\n",
    "new_num = []\n",
    "\n",
    "for i in range(len(list_num)):\n",
    "    com = list(combinations(list_num, i+1))\n",
    "    new_num.append(com)\n",
    "print(new_num)\n",
    "#     new_num = []\n",
    "#     for j in com:\n",
    "#         new_num.append(int(''.join(j)))\n",
    "#     print(new_num)\n"
   ]
  },
  {
   "cell_type": "code",
   "execution_count": 106,
   "id": "20ba1c4f",
   "metadata": {},
   "outputs": [
    {
     "data": {
      "text/plain": [
       "[(0, 1), (0, 1), (1, 1)]"
      ]
     },
     "execution_count": 106,
     "metadata": {},
     "output_type": "execute_result"
    }
   ],
   "source": [
    "com"
   ]
  },
  {
   "cell_type": "code",
   "execution_count": 133,
   "id": "499a843f",
   "metadata": {},
   "outputs": [
    {
     "name": "stdout",
     "output_type": "stream",
     "text": [
      "['1', '7']\n",
      "answer=[71, 17, 7]\n"
     ]
    }
   ],
   "source": [
    "from itertools import combinations\n",
    "from itertools import permutations\n",
    "\n",
    "numbers='17'\n",
    "\n",
    "list_num = []\n",
    "for i in numbers:\n",
    "    list_num.append(i)\n",
    "\n",
    "print(list_num)\n",
    "\n",
    "new_num = []\n",
    "\n",
    "# 1자리수 체크\n",
    "for i in list_num:\n",
    "    new_num.append(int(i))\n",
    "\n",
    "# 2자리수 이상 조합\n",
    "com = list(permutations(list_num, len(list_num)))\n",
    "for i in com:\n",
    "    new_num.append(int(''.join(i)))\n",
    "new_num = set(new_num)\n",
    "\n",
    "\n",
    "# 소수 판별하기\n",
    "answer = []\n",
    "for i in new_num:\n",
    "    if i==2 or i==3 or i==5 or (i!=1 and i%2!=0 and i%3!=0 and i%5!=0):\n",
    "        answer.append(i)\n",
    "print(f'answer={answer}')"
   ]
  },
  {
   "cell_type": "code",
   "execution_count": 199,
   "id": "b34ee75d",
   "metadata": {},
   "outputs": [],
   "source": [
    "# 완전탐색 > 소수 찾기\n",
    "\n",
    "from itertools import combinations\n",
    "from itertools import permutations\n",
    "\n",
    "\n",
    "def solution(numbers):\n",
    "    list_num = []\n",
    "    for i in numbers:\n",
    "        list_num.append(i)\n",
    "\n",
    "    print(list_num)\n",
    "    print('----------------------')\n",
    "\n",
    "\n",
    "    new_num = []\n",
    "\n",
    "    if len(list_num)==1:\n",
    "        \n",
    "        new_num.append(list_num[0])\n",
    "        \n",
    "    else:\n",
    "                \n",
    "        # 1자리수 체크\n",
    "        for i in list_num:\n",
    "            new_num.append(int(i))\n",
    "        # 2자리수 이상 체크\n",
    "        for i in range(2,len(list_num)+1):\n",
    "\n",
    "            com = list(permutations(list_num, i))\n",
    "            for j in com:\n",
    "                # 한 자리 소수 2, 3, 5, 7로 나뉘어지는 수는 미리 빼주기\n",
    "                if int(''.join(j))%2!=0 and int(''.join(j))%3!=0 and int(''.join(j))%5!=0 and int(''.join(j))%7!=0:\n",
    "                    new_num.append(int(''.join(j)))\n",
    "\n",
    "        new_num = set(new_num)\n",
    "        new_num = list(new_num)\n",
    "        new_num.sort()\n",
    "        print(new_num)\n",
    "        print('----------------------')\n",
    "    \n",
    "    # 소수 판별하기\n",
    "    answer = []\n",
    "    for i in new_num:\n",
    "        cnt=0\n",
    "        for j in range(1,i):\n",
    "            if i%j == 0:\n",
    "                cnt+=1\n",
    "                \n",
    "        if i>1 and cnt==1:\n",
    "            answer.append(i)\n",
    "                \n",
    "    print(answer)\n",
    "    return len(answer)"
   ]
  },
  {
   "cell_type": "code",
   "execution_count": 200,
   "id": "f3e37292",
   "metadata": {},
   "outputs": [
    {
     "name": "stdout",
     "output_type": "stream",
     "text": [
      "['1', '2', '3', '4', '5']\n",
      "----------------------\n",
      "[1, 2, 3, 4, 5, 13, 23, 31, 41, 43, 53, 143, 241, 251, 253, 341, 421, 431, 451, 521, 523, 541, 1243, 1423, 1453, 1523, 1543, 2143, 2153, 2341, 2351, 2413, 2431, 2453, 2531, 2543, 3251, 3421, 3541, 4153, 4213, 4231, 4253, 4321, 4351, 4513, 4523, 4531, 5123, 5143, 5213, 5231, 5321, 5413, 5423, 5431]\n",
      "----------------------\n",
      "[2, 3, 5, 13, 23, 31, 41, 43, 53, 241, 251, 421, 431, 521, 523, 541, 1423, 1453, 1523, 1543, 2143, 2153, 2341, 2351, 2531, 2543, 3251, 3541, 4153, 4231, 4253, 4513, 4523, 5231, 5413, 5431]\n"
     ]
    },
    {
     "data": {
      "text/plain": [
       "36"
      ]
     },
     "execution_count": 200,
     "metadata": {},
     "output_type": "execute_result"
    }
   ],
   "source": [
    "solution('12345')"
   ]
  },
  {
   "cell_type": "code",
   "execution_count": null,
   "id": "a41937e0",
   "metadata": {},
   "outputs": [],
   "source": []
  }
 ],
 "metadata": {
  "kernelspec": {
   "display_name": "Python 3",
   "language": "python",
   "name": "python3"
  },
  "language_info": {
   "codemirror_mode": {
    "name": "ipython",
    "version": 3
   },
   "file_extension": ".py",
   "mimetype": "text/x-python",
   "name": "python",
   "nbconvert_exporter": "python",
   "pygments_lexer": "ipython3",
   "version": "3.9.4"
  }
 },
 "nbformat": 4,
 "nbformat_minor": 5
}
