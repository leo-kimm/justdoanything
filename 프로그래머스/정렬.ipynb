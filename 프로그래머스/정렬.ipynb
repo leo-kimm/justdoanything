{
 "cells": [
  {
   "cell_type": "markdown",
   "id": "59949bcb",
   "metadata": {},
   "source": [
    "## 정렬 > 가장 큰 수"
   ]
  },
  {
   "cell_type": "code",
   "execution_count": 73,
   "id": "f0333a17",
   "metadata": {},
   "outputs": [],
   "source": [
    "# 정렬 > 가장 큰 수\n",
    "from itertools import permutations\n",
    "\n",
    "def solution(numbers):\n",
    "    if len(numbers) ==1 :\n",
    "        return str(numbers[0])    \n",
    "    \n",
    "    num = []\n",
    "    for i in numbers:\n",
    "        num.append(str(i))\n",
    "\n",
    "    com = list(permutations(num, len(numbers)))\n",
    "\n",
    "    com.reverse()\n",
    "    \n",
    "\n",
    "    answer = []\n",
    "    for j in com:\n",
    "        answer.append(int(''.join(j)))\n",
    "\n",
    "    return str(max(answer))\n",
    "\n"
   ]
  },
  {
   "cell_type": "code",
   "execution_count": 74,
   "id": "033456f4",
   "metadata": {},
   "outputs": [
    {
     "data": {
      "text/plain": [
       "'21221'"
      ]
     },
     "execution_count": 74,
     "metadata": {},
     "output_type": "execute_result"
    }
   ],
   "source": [
    "solution([21,212])"
   ]
  },
  {
   "cell_type": "code",
   "execution_count": 40,
   "id": "56f1e461",
   "metadata": {},
   "outputs": [],
   "source": [
    "# 정렬 > 가장 큰 수\n",
    "from itertools import permutations\n",
    "\n",
    "def solution(numbers):\n",
    "    num = []\n",
    "    for i in numbers:\n",
    "        num.append(str(i))\n",
    "    print(num)    \n",
    "    num.sort()\n",
    "    num.reverse()\n",
    "    print(num)\n",
    "\n",
    "    return ''.join(num)\n"
   ]
  },
  {
   "cell_type": "code",
   "execution_count": 41,
   "id": "ab708efd",
   "metadata": {},
   "outputs": [
    {
     "name": "stdout",
     "output_type": "stream",
     "text": [
      "['3', '30', '34', '5', '9']\n",
      "['9', '5', '34', '30', '3']\n"
     ]
    },
    {
     "data": {
      "text/plain": [
       "'9534303'"
      ]
     },
     "execution_count": 41,
     "metadata": {},
     "output_type": "execute_result"
    }
   ],
   "source": [
    "solution([3,30,34,5,9])"
   ]
  },
  {
   "cell_type": "code",
   "execution_count": 60,
   "id": "148ea894",
   "metadata": {},
   "outputs": [],
   "source": [
    "# 정렬 > 가장 큰 수\n",
    "from itertools import permutations\n",
    "\n",
    "def solution(numbers):\n",
    "    if len(numbers) ==1 :\n",
    "        return str(numbers[0])    \n",
    "    \n",
    "    num = []\n",
    "    for i in numbers:\n",
    "        num.append(str(i))\n",
    "    num.sort()\n",
    "    num.reverse()\n",
    "    print(num)\n",
    "    \n",
    "    answer=[]\n",
    "    cnt=0\n",
    "    for j in range(len(num)):\n",
    "        if cnt ==1:\n",
    "            answer.append(num[j-1])\n",
    "            cnt = 0\n",
    "        elif  j <len(num)-2 and len(num[j])<=len(num[j+1]):\n",
    "            answer.append(num[j])\n",
    "        elif j <len(num)-2 and len(num[j])>len(num[j+1]):\n",
    "            answer.append(num[j+1])\n",
    "            cnt += 1\n",
    "        elif j == len(num)-2 and len(num[j])<=len(num[j+1]):\n",
    "            answer.append(num[j])\n",
    "            answer.append(num[j+1])\n",
    "        elif j == len(num)-2 and len(num[j])>len(num[j+1]):\n",
    "            answer.append(num[j+1])\n",
    "            answer.append(num[j])\n",
    "        elif j == len(num)-1:\n",
    "            answer.append(num[j])\n",
    "        print(answer)\n",
    "    return str(''.join(answer))\n",
    "    "
   ]
  },
  {
   "cell_type": "code",
   "execution_count": 61,
   "id": "a234d940",
   "metadata": {},
   "outputs": [
    {
     "name": "stdout",
     "output_type": "stream",
     "text": [
      "['221', '22', '212', '21', '1']\n",
      "['22']\n",
      "['22', '221']\n",
      "['22', '221', '21']\n",
      "['22', '221', '21', '212']\n",
      "['22', '221', '21', '212', '1']\n"
     ]
    },
    {
     "data": {
      "text/plain": [
       "'22221212121'"
      ]
     },
     "execution_count": 61,
     "metadata": {},
     "output_type": "execute_result"
    }
   ],
   "source": [
    "solution([1,21,22,212,221])"
   ]
  },
  {
   "cell_type": "code",
   "execution_count": 9,
   "id": "7356ca92",
   "metadata": {},
   "outputs": [],
   "source": [
    "def solution(numbers):\n",
    "    numbers = list(map(str, numbers))\n",
    "    print(numbers)\n",
    "    numbers.sort(key=lambda x: x * 3, reverse=True)\n",
    "    return str(int(''.join(numbers)))"
   ]
  },
  {
   "cell_type": "code",
   "execution_count": 10,
   "id": "af2ab74b",
   "metadata": {},
   "outputs": [
    {
     "name": "stdout",
     "output_type": "stream",
     "text": [
      "['1', '21', '22', '212', '221']\n"
     ]
    },
    {
     "data": {
      "text/plain": [
       "'22221212211'"
      ]
     },
     "execution_count": 10,
     "metadata": {},
     "output_type": "execute_result"
    }
   ],
   "source": [
    "solution([1,21,22,212,221])"
   ]
  },
  {
   "cell_type": "markdown",
   "id": "881c525b",
   "metadata": {},
   "source": [
    "## 정렬 > H-Index"
   ]
  },
  {
   "cell_type": "code",
   "execution_count": 13,
   "id": "ed5c9112",
   "metadata": {},
   "outputs": [],
   "source": [
    "# 정렬 > H-Index\n",
    "\n",
    "def solution(citations):\n",
    "\n",
    "    answer = 0\n",
    "    n = sum(citations)//len(citations)\n",
    "    while True:\n",
    "        \n",
    "        cnt = 0\n",
    "        for i in citations:\n",
    "            if i >= n:\n",
    "                cnt += 1\n",
    "        if cnt >= n:\n",
    "            n += 1\n",
    "        else:\n",
    "            return n-1\n"
   ]
  },
  {
   "cell_type": "code",
   "execution_count": 17,
   "id": "eef10886",
   "metadata": {},
   "outputs": [
    {
     "data": {
      "text/plain": [
       "2"
      ]
     },
     "execution_count": 17,
     "metadata": {},
     "output_type": "execute_result"
    }
   ],
   "source": [
    "solution([1,0,2,2,1])"
   ]
  },
  {
   "cell_type": "code",
   "execution_count": 22,
   "id": "a7390dbf",
   "metadata": {},
   "outputs": [],
   "source": [
    "def solution(citations):\n",
    "    citations.sort(reverse=True)\n",
    "    print(citations)\n",
    "    for idx , citation in enumerate(citations):\n",
    "        if idx >= citation:\n",
    "            return idx\n",
    "    return len(citations)"
   ]
  },
  {
   "cell_type": "code",
   "execution_count": 28,
   "id": "844098d7",
   "metadata": {},
   "outputs": [
    {
     "name": "stdout",
     "output_type": "stream",
     "text": [
      "[70, 53, 37, 37, 24, 17, 7, 3]\n"
     ]
    },
    {
     "data": {
      "text/plain": [
       "7"
      ]
     },
     "execution_count": 28,
     "metadata": {},
     "output_type": "execute_result"
    }
   ],
   "source": [
    "solution([17,70,7,37,37,3,24,53])"
   ]
  },
  {
   "cell_type": "code",
   "execution_count": null,
   "id": "ff7b394e",
   "metadata": {},
   "outputs": [],
   "source": []
  }
 ],
 "metadata": {
  "kernelspec": {
   "display_name": "Python 3",
   "language": "python",
   "name": "python3"
  },
  "language_info": {
   "codemirror_mode": {
    "name": "ipython",
    "version": 3
   },
   "file_extension": ".py",
   "mimetype": "text/x-python",
   "name": "python",
   "nbconvert_exporter": "python",
   "pygments_lexer": "ipython3",
   "version": "3.9.4"
  }
 },
 "nbformat": 4,
 "nbformat_minor": 5
}
